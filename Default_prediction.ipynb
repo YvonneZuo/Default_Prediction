{
 "cells": [
  {
   "cell_type": "markdown",
   "metadata": {
    "id": "C0TJsb36-jBa"
   },
   "source": [
    "### reference\n",
    "##### Binary Classification with the UCI Credit-card Default Dataset\n",
    "##### Mitigating disparities in accuracy as measured by equalized-odds difference\n",
    "\n",
    "https://github.com/fairlearn/fairlearn/blob/master/notebooks/Binary%20Classification%20with%20the%20UCI%20Credit-card%20Default%20Dataset.ipynb"
   ]
  },
  {
   "cell_type": "code",
   "execution_count": 2,
   "metadata": {
    "colab": {
     "base_uri": "https://localhost:8080/"
    },
    "id": "5u2iaOer-jBe",
    "outputId": "657c77ea-f90b-4180-e571-4415234360b9"
   },
   "outputs": [
    {
     "name": "stdout",
     "output_type": "stream",
     "text": [
      "Requirement already satisfied: fairlearn==0.5.0 in /Users/yvonnezuo/opt/anaconda3/lib/python3.8/site-packages (0.5.0)\n",
      "Requirement already satisfied: pandas>=0.25.1 in /Users/yvonnezuo/opt/anaconda3/lib/python3.8/site-packages (from fairlearn==0.5.0) (1.2.4)\n",
      "Requirement already satisfied: scipy>=1.4.1 in /Users/yvonnezuo/opt/anaconda3/lib/python3.8/site-packages (from fairlearn==0.5.0) (1.6.2)\n",
      "Requirement already satisfied: scikit-learn>=0.22.1 in /Users/yvonnezuo/opt/anaconda3/lib/python3.8/site-packages (from fairlearn==0.5.0) (0.24.1)\n",
      "Requirement already satisfied: numpy>=1.17.2 in /Users/yvonnezuo/opt/anaconda3/lib/python3.8/site-packages (from fairlearn==0.5.0) (1.20.1)\n",
      "Requirement already satisfied: python-dateutil>=2.7.3 in /Users/yvonnezuo/opt/anaconda3/lib/python3.8/site-packages (from pandas>=0.25.1->fairlearn==0.5.0) (2.8.1)\n",
      "Requirement already satisfied: pytz>=2017.3 in /Users/yvonnezuo/opt/anaconda3/lib/python3.8/site-packages (from pandas>=0.25.1->fairlearn==0.5.0) (2021.1)\n",
      "Requirement already satisfied: six>=1.5 in /Users/yvonnezuo/opt/anaconda3/lib/python3.8/site-packages (from python-dateutil>=2.7.3->pandas>=0.25.1->fairlearn==0.5.0) (1.15.0)\n",
      "Requirement already satisfied: threadpoolctl>=2.0.0 in /Users/yvonnezuo/opt/anaconda3/lib/python3.8/site-packages (from scikit-learn>=0.22.1->fairlearn==0.5.0) (2.1.0)\n",
      "Requirement already satisfied: joblib>=0.11 in /Users/yvonnezuo/opt/anaconda3/lib/python3.8/site-packages (from scikit-learn>=0.22.1->fairlearn==0.5.0) (1.0.1)\n"
     ]
    }
   ],
   "source": [
    "!pip install fairlearn==0.5.0\n",
    "# !pip install matplotlib\n",
    "# !pip install lightgbm\n",
    "# brew install libomp\n",
    "\n",
    "# General imports\n",
    "import numpy as np\n",
    "import pandas as pd\n",
    "import matplotlib.pyplot as plt\n",
    "%matplotlib inline\n",
    "\n",
    "# Data processing\n",
    "from sklearn.model_selection import train_test_split\n",
    "\n",
    "# Models\n",
    "import lightgbm as lgb\n",
    "from sklearn.calibration import CalibratedClassifierCV\n",
    "\n",
    "# Fairlearn algorithms and utils\n",
    "from fairlearn.postprocessing import ThresholdOptimizer\n",
    "from fairlearn.reductions import GridSearch, EqualizedOdds\n",
    "from fairlearn.widget import FairlearnDashboard\n",
    "\n",
    "# Metrics\n",
    "from fairlearn.metrics import (\n",
    "    MetricFrame,\n",
    "    selection_rate, demographic_parity_difference, demographic_parity_ratio,\n",
    "    equalized_odds_difference)\n",
    "from sklearn.metrics import balanced_accuracy_score, roc_auc_score"
   ]
  },
  {
   "cell_type": "code",
   "execution_count": 9,
   "metadata": {
    "colab": {
     "base_uri": "https://localhost:8080/",
     "height": 297
    },
    "id": "INMGRutE-jBf",
    "outputId": "f7e23e39-4cde-476b-cb99-9409a7acdd43"
   },
   "outputs": [
    {
     "data": {
      "text/html": [
       "<div>\n",
       "<style scoped>\n",
       "    .dataframe tbody tr th:only-of-type {\n",
       "        vertical-align: middle;\n",
       "    }\n",
       "\n",
       "    .dataframe tbody tr th {\n",
       "        vertical-align: top;\n",
       "    }\n",
       "\n",
       "    .dataframe thead th {\n",
       "        text-align: right;\n",
       "    }\n",
       "</style>\n",
       "<table border=\"1\" class=\"dataframe\">\n",
       "  <thead>\n",
       "    <tr style=\"text-align: right;\">\n",
       "      <th></th>\n",
       "      <th>STATUS</th>\n",
       "      <th>DURATION</th>\n",
       "      <th>HISTORY</th>\n",
       "      <th>PURPOSE</th>\n",
       "      <th>CREDIT_AMOUNT</th>\n",
       "      <th>SAVINGS_ACCOUNT</th>\n",
       "      <th>PRESENT_EMPLOYMENT</th>\n",
       "      <th>INSTALLMENT_RATE</th>\n",
       "      <th>PERSONAL_STATUS_AND_SEX</th>\n",
       "      <th>OTHER_DEBTORS</th>\n",
       "      <th>...</th>\n",
       "      <th>PROPERTY</th>\n",
       "      <th>AGE</th>\n",
       "      <th>OTHER_INSTALLMENT_PLANS</th>\n",
       "      <th>HOUSING</th>\n",
       "      <th>NUMBER_OF_EXISTING_CREDITS</th>\n",
       "      <th>JOB</th>\n",
       "      <th>NUMBER_OF_PEOPLE_BEING_LIABLE</th>\n",
       "      <th>PHONE</th>\n",
       "      <th>FOREIGN_WORKER</th>\n",
       "      <th>PREDICTION</th>\n",
       "    </tr>\n",
       "  </thead>\n",
       "  <tbody>\n",
       "    <tr>\n",
       "      <th>0</th>\n",
       "      <td>1</td>\n",
       "      <td>6</td>\n",
       "      <td>4</td>\n",
       "      <td>3</td>\n",
       "      <td>1169</td>\n",
       "      <td>5</td>\n",
       "      <td>5</td>\n",
       "      <td>4</td>\n",
       "      <td>3</td>\n",
       "      <td>1</td>\n",
       "      <td>...</td>\n",
       "      <td>1</td>\n",
       "      <td>67</td>\n",
       "      <td>3</td>\n",
       "      <td>2</td>\n",
       "      <td>2</td>\n",
       "      <td>3</td>\n",
       "      <td>1</td>\n",
       "      <td>2</td>\n",
       "      <td>1</td>\n",
       "      <td>0</td>\n",
       "    </tr>\n",
       "    <tr>\n",
       "      <th>1</th>\n",
       "      <td>2</td>\n",
       "      <td>48</td>\n",
       "      <td>2</td>\n",
       "      <td>3</td>\n",
       "      <td>5951</td>\n",
       "      <td>1</td>\n",
       "      <td>3</td>\n",
       "      <td>2</td>\n",
       "      <td>2</td>\n",
       "      <td>1</td>\n",
       "      <td>...</td>\n",
       "      <td>1</td>\n",
       "      <td>22</td>\n",
       "      <td>3</td>\n",
       "      <td>2</td>\n",
       "      <td>1</td>\n",
       "      <td>3</td>\n",
       "      <td>1</td>\n",
       "      <td>1</td>\n",
       "      <td>1</td>\n",
       "      <td>1</td>\n",
       "    </tr>\n",
       "    <tr>\n",
       "      <th>2</th>\n",
       "      <td>4</td>\n",
       "      <td>12</td>\n",
       "      <td>4</td>\n",
       "      <td>6</td>\n",
       "      <td>2096</td>\n",
       "      <td>1</td>\n",
       "      <td>4</td>\n",
       "      <td>2</td>\n",
       "      <td>3</td>\n",
       "      <td>1</td>\n",
       "      <td>...</td>\n",
       "      <td>1</td>\n",
       "      <td>49</td>\n",
       "      <td>3</td>\n",
       "      <td>2</td>\n",
       "      <td>1</td>\n",
       "      <td>2</td>\n",
       "      <td>2</td>\n",
       "      <td>1</td>\n",
       "      <td>1</td>\n",
       "      <td>0</td>\n",
       "    </tr>\n",
       "    <tr>\n",
       "      <th>3</th>\n",
       "      <td>1</td>\n",
       "      <td>42</td>\n",
       "      <td>2</td>\n",
       "      <td>2</td>\n",
       "      <td>7882</td>\n",
       "      <td>1</td>\n",
       "      <td>4</td>\n",
       "      <td>2</td>\n",
       "      <td>3</td>\n",
       "      <td>3</td>\n",
       "      <td>...</td>\n",
       "      <td>2</td>\n",
       "      <td>45</td>\n",
       "      <td>3</td>\n",
       "      <td>3</td>\n",
       "      <td>1</td>\n",
       "      <td>3</td>\n",
       "      <td>2</td>\n",
       "      <td>1</td>\n",
       "      <td>1</td>\n",
       "      <td>0</td>\n",
       "    </tr>\n",
       "    <tr>\n",
       "      <th>4</th>\n",
       "      <td>1</td>\n",
       "      <td>24</td>\n",
       "      <td>3</td>\n",
       "      <td>0</td>\n",
       "      <td>4870</td>\n",
       "      <td>1</td>\n",
       "      <td>3</td>\n",
       "      <td>3</td>\n",
       "      <td>3</td>\n",
       "      <td>1</td>\n",
       "      <td>...</td>\n",
       "      <td>4</td>\n",
       "      <td>53</td>\n",
       "      <td>3</td>\n",
       "      <td>3</td>\n",
       "      <td>2</td>\n",
       "      <td>3</td>\n",
       "      <td>2</td>\n",
       "      <td>1</td>\n",
       "      <td>1</td>\n",
       "      <td>1</td>\n",
       "    </tr>\n",
       "  </tbody>\n",
       "</table>\n",
       "<p>5 rows × 21 columns</p>\n",
       "</div>"
      ],
      "text/plain": [
       "  STATUS  DURATION HISTORY PURPOSE  CREDIT_AMOUNT SAVINGS_ACCOUNT  \\\n",
       "0      1         6       4       3           1169               5   \n",
       "1      2        48       2       3           5951               1   \n",
       "2      4        12       4       6           2096               1   \n",
       "3      1        42       2       2           7882               1   \n",
       "4      1        24       3       0           4870               1   \n",
       "\n",
       "  PRESENT_EMPLOYMENT  INSTALLMENT_RATE PERSONAL_STATUS_AND_SEX OTHER_DEBTORS  \\\n",
       "0                  5                 4                       3             1   \n",
       "1                  3                 2                       2             1   \n",
       "2                  4                 2                       3             1   \n",
       "3                  4                 2                       3             3   \n",
       "4                  3                 3                       3             1   \n",
       "\n",
       "   ...  PROPERTY AGE  OTHER_INSTALLMENT_PLANS HOUSING  \\\n",
       "0  ...         1  67                        3       2   \n",
       "1  ...         1  22                        3       2   \n",
       "2  ...         1  49                        3       2   \n",
       "3  ...         2  45                        3       3   \n",
       "4  ...         4  53                        3       3   \n",
       "\n",
       "  NUMBER_OF_EXISTING_CREDITS  JOB NUMBER_OF_PEOPLE_BEING_LIABLE  PHONE  \\\n",
       "0                          2    3                             1      2   \n",
       "1                          1    3                             1      1   \n",
       "2                          1    2                             2      1   \n",
       "3                          1    3                             2      1   \n",
       "4                          2    3                             2      1   \n",
       "\n",
       "  FOREIGN_WORKER PREDICTION  \n",
       "0              1          0  \n",
       "1              1          1  \n",
       "2              1          0  \n",
       "3              1          0  \n",
       "4              1          1  \n",
       "\n",
       "[5 rows x 21 columns]"
      ]
     },
     "execution_count": 9,
     "metadata": {},
     "output_type": "execute_result"
    }
   ],
   "source": [
    "# Load and preprocess the data\n",
    "df = pd.read_csv(\"german_credit.txt\", delimiter=\" \")\n",
    "\n",
    "prediction_map={1:0, 2:1}\n",
    "df['PREDICTION'] = df['PREDICTION'].map(prediction_map)\n",
    "\n",
    "non_num_features = df.select_dtypes(exclude=['number'])\n",
    "non_num_features = non_num_features.applymap(lambda x: str(x)[-1])\n",
    "for col in non_num_features:\n",
    "    df[col] = non_num_features[col].astype('category')\n",
    "df.head()"
   ]
  },
  {
   "cell_type": "code",
   "execution_count": 10,
   "metadata": {
    "colab": {
     "base_uri": "https://localhost:8080/"
    },
    "id": "UH6AIGCR-jBi",
    "outputId": "dfd29740-1906-4022-f756-0d7f1a71572a"
   },
   "outputs": [
    {
     "data": {
      "text/plain": [
       "0    skilled employee / official\n",
       "1    skilled employee / official\n",
       "2           unskilled - resident\n",
       "3    skilled employee / official\n",
       "4    skilled employee / official\n",
       "Name: JOB, dtype: object"
      ]
     },
     "execution_count": 10,
     "metadata": {},
     "output_type": "execute_result"
    }
   ],
   "source": [
    "# To show how to extract and adjust a feature, let's consider \"OTHER_INSTALLMENT_PLANS\" feature\n",
    "df['JOB'] = df['JOB'].astype('int32')\n",
    "A = df['JOB']\n",
    "A_str = A.map({ 1:\"unemployed/ unskilled  - non-resident\", 2:\"unskilled - resident\", 3:\"skilled employee / official\", 4:\"management/ self-employed/ highly qualified employee/ officer\"})\n",
    "# Extract the target feature, which is \"PREDICTION\" that shows whether a customer is good or bad\n",
    "Y = df[\"PREDICTION\"]\n",
    "A_str.head()\n",
    "# Y.head()"
   ]
  },
  {
   "cell_type": "code",
   "execution_count": 11,
   "metadata": {
    "colab": {
     "base_uri": "https://localhost:8080/",
     "height": 297
    },
    "id": "bF8WyRjZ-jBk",
    "outputId": "6b7573fc-f1c7-4fa9-afc8-9c50916fa3e4"
   },
   "outputs": [
    {
     "data": {
      "text/html": [
       "<div>\n",
       "<style scoped>\n",
       "    .dataframe tbody tr th:only-of-type {\n",
       "        vertical-align: middle;\n",
       "    }\n",
       "\n",
       "    .dataframe tbody tr th {\n",
       "        vertical-align: top;\n",
       "    }\n",
       "\n",
       "    .dataframe thead th {\n",
       "        text-align: right;\n",
       "    }\n",
       "</style>\n",
       "<table border=\"1\" class=\"dataframe\">\n",
       "  <thead>\n",
       "    <tr style=\"text-align: right;\">\n",
       "      <th></th>\n",
       "      <th>STATUS</th>\n",
       "      <th>DURATION</th>\n",
       "      <th>HISTORY</th>\n",
       "      <th>PURPOSE</th>\n",
       "      <th>CREDIT_AMOUNT</th>\n",
       "      <th>SAVINGS_ACCOUNT</th>\n",
       "      <th>PRESENT_EMPLOYMENT</th>\n",
       "      <th>INSTALLMENT_RATE</th>\n",
       "      <th>PERSONAL_STATUS_AND_SEX</th>\n",
       "      <th>OTHER_DEBTORS</th>\n",
       "      <th>...</th>\n",
       "      <th>PROPERTY</th>\n",
       "      <th>AGE</th>\n",
       "      <th>OTHER_INSTALLMENT_PLANS</th>\n",
       "      <th>HOUSING</th>\n",
       "      <th>NUMBER_OF_EXISTING_CREDITS</th>\n",
       "      <th>JOB</th>\n",
       "      <th>NUMBER_OF_PEOPLE_BEING_LIABLE</th>\n",
       "      <th>PHONE</th>\n",
       "      <th>FOREIGN_WORKER</th>\n",
       "      <th>PREDICTION</th>\n",
       "    </tr>\n",
       "  </thead>\n",
       "  <tbody>\n",
       "    <tr>\n",
       "      <th>0</th>\n",
       "      <td>1</td>\n",
       "      <td>6</td>\n",
       "      <td>4</td>\n",
       "      <td>3</td>\n",
       "      <td>1169</td>\n",
       "      <td>5</td>\n",
       "      <td>5</td>\n",
       "      <td>-0.450602</td>\n",
       "      <td>3</td>\n",
       "      <td>1</td>\n",
       "      <td>...</td>\n",
       "      <td>1</td>\n",
       "      <td>67</td>\n",
       "      <td>3</td>\n",
       "      <td>2</td>\n",
       "      <td>2</td>\n",
       "      <td>3</td>\n",
       "      <td>1</td>\n",
       "      <td>2</td>\n",
       "      <td>1</td>\n",
       "      <td>0</td>\n",
       "    </tr>\n",
       "    <tr>\n",
       "      <th>1</th>\n",
       "      <td>2</td>\n",
       "      <td>48</td>\n",
       "      <td>2</td>\n",
       "      <td>3</td>\n",
       "      <td>5951</td>\n",
       "      <td>1</td>\n",
       "      <td>3</td>\n",
       "      <td>0.123726</td>\n",
       "      <td>2</td>\n",
       "      <td>1</td>\n",
       "      <td>...</td>\n",
       "      <td>1</td>\n",
       "      <td>22</td>\n",
       "      <td>3</td>\n",
       "      <td>2</td>\n",
       "      <td>1</td>\n",
       "      <td>3</td>\n",
       "      <td>1</td>\n",
       "      <td>1</td>\n",
       "      <td>1</td>\n",
       "      <td>1</td>\n",
       "    </tr>\n",
       "    <tr>\n",
       "      <th>2</th>\n",
       "      <td>4</td>\n",
       "      <td>12</td>\n",
       "      <td>4</td>\n",
       "      <td>6</td>\n",
       "      <td>2096</td>\n",
       "      <td>1</td>\n",
       "      <td>4</td>\n",
       "      <td>-0.157364</td>\n",
       "      <td>3</td>\n",
       "      <td>1</td>\n",
       "      <td>...</td>\n",
       "      <td>1</td>\n",
       "      <td>49</td>\n",
       "      <td>3</td>\n",
       "      <td>2</td>\n",
       "      <td>1</td>\n",
       "      <td>2</td>\n",
       "      <td>2</td>\n",
       "      <td>1</td>\n",
       "      <td>1</td>\n",
       "      <td>0</td>\n",
       "    </tr>\n",
       "    <tr>\n",
       "      <th>3</th>\n",
       "      <td>1</td>\n",
       "      <td>42</td>\n",
       "      <td>2</td>\n",
       "      <td>2</td>\n",
       "      <td>7882</td>\n",
       "      <td>1</td>\n",
       "      <td>4</td>\n",
       "      <td>0.232007</td>\n",
       "      <td>3</td>\n",
       "      <td>3</td>\n",
       "      <td>...</td>\n",
       "      <td>2</td>\n",
       "      <td>45</td>\n",
       "      <td>3</td>\n",
       "      <td>3</td>\n",
       "      <td>1</td>\n",
       "      <td>3</td>\n",
       "      <td>2</td>\n",
       "      <td>1</td>\n",
       "      <td>1</td>\n",
       "      <td>0</td>\n",
       "    </tr>\n",
       "    <tr>\n",
       "      <th>4</th>\n",
       "      <td>1</td>\n",
       "      <td>24</td>\n",
       "      <td>3</td>\n",
       "      <td>0</td>\n",
       "      <td>4870</td>\n",
       "      <td>1</td>\n",
       "      <td>3</td>\n",
       "      <td>1.842735</td>\n",
       "      <td>3</td>\n",
       "      <td>1</td>\n",
       "      <td>...</td>\n",
       "      <td>4</td>\n",
       "      <td>53</td>\n",
       "      <td>3</td>\n",
       "      <td>3</td>\n",
       "      <td>2</td>\n",
       "      <td>3</td>\n",
       "      <td>2</td>\n",
       "      <td>1</td>\n",
       "      <td>1</td>\n",
       "      <td>1</td>\n",
       "    </tr>\n",
       "  </tbody>\n",
       "</table>\n",
       "<p>5 rows × 21 columns</p>\n",
       "</div>"
      ],
      "text/plain": [
       "  STATUS  DURATION HISTORY PURPOSE  CREDIT_AMOUNT SAVINGS_ACCOUNT  \\\n",
       "0      1         6       4       3           1169               5   \n",
       "1      2        48       2       3           5951               1   \n",
       "2      4        12       4       6           2096               1   \n",
       "3      1        42       2       2           7882               1   \n",
       "4      1        24       3       0           4870               1   \n",
       "\n",
       "  PRESENT_EMPLOYMENT  INSTALLMENT_RATE PERSONAL_STATUS_AND_SEX OTHER_DEBTORS  \\\n",
       "0                  5         -0.450602                       3             1   \n",
       "1                  3          0.123726                       2             1   \n",
       "2                  4         -0.157364                       3             1   \n",
       "3                  4          0.232007                       3             3   \n",
       "4                  3          1.842735                       3             1   \n",
       "\n",
       "   ...  PROPERTY AGE  OTHER_INSTALLMENT_PLANS HOUSING  \\\n",
       "0  ...         1  67                        3       2   \n",
       "1  ...         1  22                        3       2   \n",
       "2  ...         1  49                        3       2   \n",
       "3  ...         2  45                        3       3   \n",
       "4  ...         4  53                        3       3   \n",
       "\n",
       "  NUMBER_OF_EXISTING_CREDITS  JOB  NUMBER_OF_PEOPLE_BEING_LIABLE  PHONE  \\\n",
       "0                          2    3                              1      2   \n",
       "1                          1    3                              1      1   \n",
       "2                          1    2                              2      1   \n",
       "3                          1    3                              2      1   \n",
       "4                          2    3                              2      1   \n",
       "\n",
       "  FOREIGN_WORKER PREDICTION  \n",
       "0              1          0  \n",
       "1              1          1  \n",
       "2              1          0  \n",
       "3              1          0  \n",
       "4              1          1  \n",
       "\n",
       "[5 rows x 21 columns]"
      ]
     },
     "execution_count": 11,
     "metadata": {},
     "output_type": "execute_result"
    }
   ],
   "source": [
    "dist_scale = 0.7\n",
    "np.random.seed(5000)\n",
    "# Make 'INSTALLMENT_RATE' informative of the target\n",
    "df['INSTALLMENT_RATE'] = Y + np.random.normal(scale=dist_scale, size=df.shape[0])\n",
    "# But then make it uninformative for the customers who are unemployed or unskilled.\n",
    "df.loc[A==1, 'INSTALLMENT_RATE'] = np.random.normal(scale=dist_scale, size=df[A==1].shape[0])\n",
    "df.loc[A==2, 'INSTALLMENT_RATE'] = np.random.normal(scale=dist_scale, size=df[A==2].shape[0])\n",
    "df.head()"
   ]
  },
  {
   "cell_type": "code",
   "execution_count": 12,
   "metadata": {
    "colab": {
     "base_uri": "https://localhost:8080/",
     "height": 572
    },
    "id": "a73p-K7_-jBn",
    "outputId": "1a4044e0-24d6-4ba0-a06e-1def9759b6c1"
   },
   "outputs": [
    {
     "data": {
      "image/png": "[encoded data removed]",
      "text/plain": [
       "<Figure size 1440x720 with 4 Axes>"
      ]
     },
     "metadata": {
      "needs_background": "light"
     },
     "output_type": "display_data"
    }
   ],
   "source": [
    "fig, (ax1, ax2, ax3, ax4) = plt.subplots(1, 4, figsize=(20, 10), sharey=True)\n",
    "# Plot distribution of CREDIT_AMOUNT for skilled employee\n",
    "df['INSTALLMENT_RATE'][(A==3) & (Y==0)].plot(kind='kde', label=\"Good Customer\", ax=ax1, \n",
    "                                           title=\"INSTALLMENT_RATE for skilled employee\")\n",
    "df['INSTALLMENT_RATE'][(A==3) & (Y==1)].plot(kind='kde', label=\"Bad Customer\", ax=ax1)\n",
    "# Plot distribution of CREDIT_AMOUNT for management/ self-employed\n",
    "df['INSTALLMENT_RATE'][(A==4) & (Y==0)].plot(kind='kde', label=\"Good Customer\", ax=ax2, \n",
    "                                           title=\"INSTALLMENT_RATE for management\")\n",
    "df['INSTALLMENT_RATE'][(A==4) & (Y==1)].plot(kind='kde', label=\"Bad Customer\", ax=ax2)\n",
    "# Plot distribution of LIMIT_BAL for unemployed/ unskilled  - non-resident\n",
    "df['INSTALLMENT_RATE'][(A==1) & (Y==0)].plot(kind='kde', label=\"Good Customer\", ax=ax3, \n",
    "                                           legend=True, title=\"INSTALLMENT_RATE for unemployed-non-resident\")\n",
    "df['INSTALLMENT_RATE'][(A==1) & (Y==1)].plot(kind='kde', label=\"Bad Customer\", ax=ax3, \n",
    "                                           legend=True).legend(bbox_to_anchor=(1.6, 1))\n",
    "# Plot distribution of unskilled - resident\n",
    "df['INSTALLMENT_RATE'][(A==2) & (Y==0)].plot(kind='kde', label=\"Good Customer\", ax=ax4, \n",
    "                                           legend=True, title=\"INSTALLMENT_RATE for unskilled-resident\")\n",
    "df['INSTALLMENT_RATE'][(A==2) & (Y==1)].plot(kind='kde', label=\"Bad Customer\", ax=ax4, \n",
    "                                           legend=True).legend(bbox_to_anchor=(1.6, 1))\n",
    "plt.show()"
   ]
  },
  {
   "cell_type": "markdown",
   "metadata": {
    "id": "lQzWatlT-jBn"
   },
   "source": [
    "Train and test a machine learning model with LightGBM. Then plot the trained models' feature imporantce chart with LGB's `plot_importance` function."
   ]
  },
  {
   "cell_type": "code",
   "execution_count": 13,
   "metadata": {
    "colab": {
     "base_uri": "https://localhost:8080/",
     "height": 295
    },
    "id": "Ar9aPH7W-jBs",
    "outputId": "59f18491-2d47-4cb8-9b8b-b570be473d78"
   },
   "outputs": [
    {
     "data": {
      "image/png": "[encoded data removed]",
      "text/plain": [
       "<Figure size 432x288 with 1 Axes>"
      ]
     },
     "metadata": {
      "needs_background": "light"
     },
     "output_type": "display_data"
    }
   ],
   "source": [
    "# Train-test split\n",
    "df_train, df_test, Y_train, Y_test, A_train, A_test, A_str_train, A_str_test = train_test_split(\n",
    "    df.drop(columns=['JOB', 'PREDICTION']), \n",
    "    Y, \n",
    "    A, \n",
    "    A_str,\n",
    "    test_size = 0.3, \n",
    "    random_state=5000,\n",
    "    stratify=Y)\n",
    "\n",
    "lgb_params = {\n",
    "    'objective' : 'binary',\n",
    "    'metric' : 'auc',\n",
    "    'learning_rate': 0.03,\n",
    "    'num_leaves' : 10,\n",
    "    'max_depth' : 3\n",
    "}\n",
    "\n",
    "model = lgb.LGBMClassifier(**lgb_params)\n",
    "\n",
    "model.fit(df_train, Y_train)\n",
    "\n",
    "# Scores on test set\n",
    "test_scores = model.predict_proba(df_test)[:, 1]\n",
    "\n",
    "# Train AUC\n",
    "roc_auc_score(Y_train, model.predict_proba(df_train)[:, 1])\n",
    "\n",
    "# Predictions (0 or 1) on test set\n",
    "test_preds = (test_scores >= np.mean(Y_train)) * 1\n",
    "\n",
    "# LightGBM feature importance \n",
    "lgb.plot_importance(model, height=0.6, title=\"Features importance (LightGBM)\", importance_type=\"gain\", max_num_features=21) \n",
    "plt.show()"
   ]
  },
  {
   "cell_type": "code",
   "execution_count": 14,
   "metadata": {
    "colab": {
     "base_uri": "https://localhost:8080/",
     "height": 359
    },
    "id": "ptpIlDmE-jBu",
    "outputId": "d69c54c3-b1c2-4538-f1d8-efb53b784cbf"
   },
   "outputs": [
    {
     "data": {
      "text/html": [
       "<div>\n",
       "<style scoped>\n",
       "    .dataframe tbody tr th:only-of-type {\n",
       "        vertical-align: middle;\n",
       "    }\n",
       "\n",
       "    .dataframe tbody tr th {\n",
       "        vertical-align: top;\n",
       "    }\n",
       "\n",
       "    .dataframe thead th {\n",
       "        text-align: right;\n",
       "    }\n",
       "</style>\n",
       "<table border=\"1\" class=\"dataframe\">\n",
       "  <thead>\n",
       "    <tr style=\"text-align: right;\">\n",
       "      <th></th>\n",
       "      <th>Unmitigated</th>\n",
       "    </tr>\n",
       "  </thead>\n",
       "  <tbody>\n",
       "    <tr>\n",
       "      <th>Overall selection rate</th>\n",
       "      <td>0.393333</td>\n",
       "    </tr>\n",
       "    <tr>\n",
       "      <th>Demographic parity difference</th>\n",
       "      <td>0.432692</td>\n",
       "    </tr>\n",
       "    <tr>\n",
       "      <th>Demographic parity ratio</th>\n",
       "      <td>0.224138</td>\n",
       "    </tr>\n",
       "    <tr>\n",
       "      <th>-----</th>\n",
       "      <td></td>\n",
       "    </tr>\n",
       "    <tr>\n",
       "      <th>Overall balanced error rate</th>\n",
       "      <td>0.21746</td>\n",
       "    </tr>\n",
       "    <tr>\n",
       "      <th>Balanced error rate difference</th>\n",
       "      <td>0.417665</td>\n",
       "    </tr>\n",
       "    <tr>\n",
       "      <th>Equalized odds difference</th>\n",
       "      <td>0.865385</td>\n",
       "    </tr>\n",
       "    <tr>\n",
       "      <th>------</th>\n",
       "      <td></td>\n",
       "    </tr>\n",
       "    <tr>\n",
       "      <th>Overall AUC</th>\n",
       "      <td>0.856825</td>\n",
       "    </tr>\n",
       "    <tr>\n",
       "      <th>AUC difference</th>\n",
       "      <td>0.307272</td>\n",
       "    </tr>\n",
       "  </tbody>\n",
       "</table>\n",
       "</div>"
      ],
      "text/plain": [
       "                               Unmitigated\n",
       "Overall selection rate            0.393333\n",
       "Demographic parity difference     0.432692\n",
       "Demographic parity ratio          0.224138\n",
       "-----                                     \n",
       "Overall balanced error rate        0.21746\n",
       "Balanced error rate difference    0.417665\n",
       "Equalized odds difference         0.865385\n",
       "------                                    \n",
       "Overall AUC                       0.856825\n",
       "AUC difference                    0.307272"
      ]
     },
     "execution_count": 14,
     "metadata": {},
     "output_type": "execute_result"
    }
   ],
   "source": [
    "# Helper functions\n",
    "def get_metrics_df(models_dict, y_true, group):\n",
    "    metrics_dict = {\n",
    "        \"Overall selection rate\": (\n",
    "            lambda x: selection_rate(y_true, x), True),\n",
    "        \"Demographic parity difference\": (\n",
    "            lambda x: demographic_parity_difference(y_true, x, sensitive_features=group), True),\n",
    "        \"Demographic parity ratio\": (\n",
    "            lambda x: demographic_parity_ratio(y_true, x, sensitive_features=group), True),\n",
    "        \"-----\": (lambda x: \"\", True),\n",
    "        \"Overall balanced error rate\": (\n",
    "            lambda x: 1-balanced_accuracy_score(y_true, x), True),\n",
    "        \"Balanced error rate difference\": (\n",
    "            lambda x: MetricFrame(balanced_accuracy_score, y_true, x, sensitive_features=group).difference(method='between_groups'), True),\n",
    "        \"Equalized odds difference\": (\n",
    "            lambda x: equalized_odds_difference(y_true, x, sensitive_features=group), True),\n",
    "        \"------\": (lambda x: \"\", True),\n",
    "        \"Overall AUC\": (\n",
    "            lambda x: roc_auc_score(y_true, x), False),\n",
    "        \"AUC difference\": (\n",
    "            lambda x: MetricFrame(roc_auc_score, y_true, x, sensitive_features=group).difference(method='between_groups'), False),\n",
    "    }\n",
    "    df_dict = {}\n",
    "    for metric_name, (metric_func, use_preds) in metrics_dict.items():\n",
    "        df_dict[metric_name] = [metric_func(preds) if use_preds else metric_func(scores) \n",
    "                                for model_name, (preds, scores) in models_dict.items()]\n",
    "    return pd.DataFrame.from_dict(df_dict, orient=\"index\", columns=models_dict.keys())\n",
    "\n",
    "    # Metrics\n",
    "models_dict = {\"Unmitigated\": (test_preds, test_scores)}\n",
    "get_metrics_df(models_dict, Y_test, A_str_test)"
   ]
  },
  {
   "cell_type": "markdown",
   "metadata": {
    "id": "Aefwk-nl-jBu"
   },
   "source": [
    "Mitigate the disparities in predictions with the Fairlearn postprocessing algorithm ThresholdOptimizer, use `equalized_odds` for the constraint. (https://fairlearn.github.io/v0.6.0/api_reference/fairlearn.postprocessing.html)."
   ]
  },
  {
   "cell_type": "code",
   "execution_count": 15,
   "metadata": {
    "colab": {
     "base_uri": "https://localhost:8080/",
     "height": 549
    },
    "id": "EFGggw-J-jBx",
    "outputId": "d20db189-cf88-4566-f023-a55d96015c26"
   },
   "outputs": [
    {
     "name": "stderr",
     "output_type": "stream",
     "text": [
      "/Users/yvonnezuo/opt/anaconda3/lib/python3.8/site-packages/sklearn/utils/validation.py:63: FutureWarning: Arrays of bytes/strings is being converted to decimal numbers if dtype='numeric'. This behavior is deprecated in 0.24 and will be removed in 1.1 (renaming of 0.26). Please convert your data to numeric values explicitly instead.\n",
      "  return f(*args, **kwargs)\n",
      "/Users/yvonnezuo/opt/anaconda3/lib/python3.8/site-packages/fairlearn/postprocessing/_interpolated_thresholder.py:66: UserWarning: The value of `prefit` is `True`, but `check_is_fitted` raised `NotFittedError` on the base estimator.\n",
      "\n",
      "If the provided base estimator has been fitted, this could mean that (1) its implementation does not conform to the sklearn estimator API, or (2) the enclosing InterpolatedThresholder has been cloned (for instance by `sklearn.model_selection.cross_validate`).\n",
      "\n",
      "In case (1), please file an issue with the base estimator developers, but continue to use the enclosing InterpolatedThresholder with `prefit=True`. In case (2), please use `prefit=False`.\n",
      "  warn(BASE_ESTIMATOR_NOT_FITTED_WARNING.format(type(self).__name__))\n",
      "/Users/yvonnezuo/opt/anaconda3/lib/python3.8/site-packages/sklearn/utils/validation.py:63: FutureWarning: Arrays of bytes/strings is being converted to decimal numbers if dtype='numeric'. This behavior is deprecated in 0.24 and will be removed in 1.1 (renaming of 0.26). Please convert your data to numeric values explicitly instead.\n",
      "  return f(*args, **kwargs)\n"
     ]
    },
    {
     "data": {
      "text/html": [
       "<div>\n",
       "<style scoped>\n",
       "    .dataframe tbody tr th:only-of-type {\n",
       "        vertical-align: middle;\n",
       "    }\n",
       "\n",
       "    .dataframe tbody tr th {\n",
       "        vertical-align: top;\n",
       "    }\n",
       "\n",
       "    .dataframe thead th {\n",
       "        text-align: right;\n",
       "    }\n",
       "</style>\n",
       "<table border=\"1\" class=\"dataframe\">\n",
       "  <thead>\n",
       "    <tr style=\"text-align: right;\">\n",
       "      <th></th>\n",
       "      <th>Unmitigated</th>\n",
       "      <th>ThresholdOptimizer</th>\n",
       "    </tr>\n",
       "  </thead>\n",
       "  <tbody>\n",
       "    <tr>\n",
       "      <th>Overall selection rate</th>\n",
       "      <td>0.393333</td>\n",
       "      <td>0.333333</td>\n",
       "    </tr>\n",
       "    <tr>\n",
       "      <th>Demographic parity difference</th>\n",
       "      <td>0.432692</td>\n",
       "      <td>0.134615</td>\n",
       "    </tr>\n",
       "    <tr>\n",
       "      <th>Demographic parity ratio</th>\n",
       "      <td>0.224138</td>\n",
       "      <td>0.65</td>\n",
       "    </tr>\n",
       "    <tr>\n",
       "      <th>-----</th>\n",
       "      <td></td>\n",
       "      <td></td>\n",
       "    </tr>\n",
       "    <tr>\n",
       "      <th>Overall balanced error rate</th>\n",
       "      <td>0.21746</td>\n",
       "      <td>0.293651</td>\n",
       "    </tr>\n",
       "    <tr>\n",
       "      <th>Balanced error rate difference</th>\n",
       "      <td>0.417665</td>\n",
       "      <td>0.399327</td>\n",
       "    </tr>\n",
       "    <tr>\n",
       "      <th>Equalized odds difference</th>\n",
       "      <td>0.865385</td>\n",
       "      <td>0.653846</td>\n",
       "    </tr>\n",
       "    <tr>\n",
       "      <th>------</th>\n",
       "      <td></td>\n",
       "      <td></td>\n",
       "    </tr>\n",
       "    <tr>\n",
       "      <th>Overall AUC</th>\n",
       "      <td>0.856825</td>\n",
       "      <td>0.706349</td>\n",
       "    </tr>\n",
       "    <tr>\n",
       "      <th>AUC difference</th>\n",
       "      <td>0.307272</td>\n",
       "      <td>0.399327</td>\n",
       "    </tr>\n",
       "  </tbody>\n",
       "</table>\n",
       "</div>"
      ],
      "text/plain": [
       "                               Unmitigated ThresholdOptimizer\n",
       "Overall selection rate            0.393333           0.333333\n",
       "Demographic parity difference     0.432692           0.134615\n",
       "Demographic parity ratio          0.224138               0.65\n",
       "-----                                                        \n",
       "Overall balanced error rate        0.21746           0.293651\n",
       "Balanced error rate difference    0.417665           0.399327\n",
       "Equalized odds difference         0.865385           0.653846\n",
       "------                                                       \n",
       "Overall AUC                       0.856825           0.706349\n",
       "AUC difference                    0.307272           0.399327"
      ]
     },
     "execution_count": 15,
     "metadata": {},
     "output_type": "execute_result"
    }
   ],
   "source": [
    "postprocess_est = ThresholdOptimizer(\n",
    "    estimator=model,\n",
    "    constraints=\"equalized_odds\")\n",
    "\n",
    "# Balanced data set is obtained by sampling the same number of points from the majority class (Y=0)\n",
    "# as there are points in the minority class (Y=1)\n",
    "balanced_idx1 = df_train[Y_train==1].index\n",
    "pp_train_idx = balanced_idx1.union(Y_train[Y_train==0].sample(n=balanced_idx1.size, random_state=1000).index)\n",
    "\n",
    "df_train_balanced = df_train.loc[pp_train_idx, :]\n",
    "Y_train_balanced = Y_train.loc[pp_train_idx]\n",
    "A_train_balanced = A_train.loc[pp_train_idx]\n",
    "\n",
    "postprocess_est.fit(df_train_balanced, Y_train_balanced, sensitive_features=A_train_balanced)\n",
    "\n",
    "postprocess_preds = postprocess_est.predict(df_test, sensitive_features=A_test)\n",
    "\n",
    "models_dict = {\"Unmitigated\": (test_preds, test_scores),\n",
    "              \"ThresholdOptimizer\": (postprocess_preds, postprocess_preds)}\n",
    "get_metrics_df(models_dict, Y_test, A_str_test)"
   ]
  },
  {
   "cell_type": "markdown",
   "metadata": {
    "id": "BxzBrVuyixo0"
   },
   "source": [
    "Umitigated Equalized odds difference: 0.865385\t\n",
    "ThresholdOptimizer algorithm processed equalized odds difference: 0.653846\n",
    "\n"
   ]
  },
  {
   "cell_type": "markdown",
   "metadata": {
    "id": "PJLZzcER-jBy"
   },
   "source": [
    "## <span style='color:blue'> Problem 7 </span>"
   ]
  },
  {
   "cell_type": "markdown",
   "metadata": {
    "id": "GGALpX6X-jBy"
   },
   "source": [
    "Compare the disparity in accuracy and prediction between the unmitaged and optimized models with `FairlearnDashboard`."
   ]
  },
  {
   "cell_type": "code",
   "execution_count": 17,
   "metadata": {
    "colab": {
     "base_uri": "https://localhost:8080/",
     "height": 88,
     "referenced_widgets": [
      "12b6e0f768444f5aa84861878cce1b40"
     ]
    },
    "id": "qWe0K5dT-jB0",
    "outputId": "896b84e5-93dc-45b1-f354-c54b602d1905"
   },
   "outputs": [
    {
     "data": {
      "application/vnd.jupyter.widget-view+json": {
       "model_id": "415616b20d2f456a84c06edcd1561a37",
       "version_major": 2,
       "version_minor": 0
      },
      "text/plain": [
       "FairlearnWidget(value={'true_y': [1, 0, 0, 1, 0, 0, 0, 1, 0, 0, 0, 1, 0, 0, 0, 0, 1, 0, 1, 0, 0, 0, 1, 0, 0, 1…"
      ]
     },
     "metadata": {},
     "output_type": "display_data"
    },
    {
     "data": {
      "text/plain": [
       "<fairlearn.widget._fairlearn_dashboard.FairlearnDashboard at 0x7ff53817bf40>"
      ]
     },
     "execution_count": 17,
     "metadata": {},
     "output_type": "execute_result"
    }
   ],
   "source": [
    "FairlearnDashboard(sensitive_features=A_str_test, sensitive_feature_names=['JOB'],\n",
    "                   y_true=Y_test,\n",
    "                   y_pred={\"Unmitigated\": test_preds,\n",
    "                          \"ThresholdOptimizer\": postprocess_preds})\n"
   ]
  },
  {
   "cell_type": "markdown",
   "metadata": {},
   "source": [
    "\n",
    "Disparity in accuracy:\n",
    "    The umitaged model has a higher level of accuracy of 78%, a lower level of dispararity \n",
    "    of 19.7%; while the optimized model has lower accuracy of 74% and higher level of\n",
    "    dispararity of 26.4%.\n",
    "    \n",
    "\n",
    "    \n",
    "Dispararity in prediction:\n",
    "    The optimized model has a lower level of accuracy of 74%, but has a lower level of \n",
    "    disparity of 13.5%.\n",
    "    Meanwhile, the unmitaged medel has the highest accuracy of 78%, and the highest disparity\n",
    "    of 43.3%.\n",
    "    \n",
    "    Trade-offs: Even though, in predition, the ThresholdOptimizer algorithm helps the model\n",
    "    achieves a very high accuracy, in the meantime, it also causes a very high disparity. \n",
    "    And in accuracy, it doesn't benift the model. On the contrary, the model without \n",
    "    the algorithm performs better.\n",
    "    "
   ]
  },
  {
   "cell_type": "markdown",
   "metadata": {
    "id": "hVP9KJ-3-jB0"
   },
   "source": [
    "Use `GridSearch`(https://fairlearn.github.io/v0.6.0/api_reference/fairlearn.reductions.html?highlight=gridsearch#fairlearn.reductions.GridSearch)to train multiple models to mitigate the disparities. Create scatter plots to compare the performace (`AUC` or `Balanced Acuracy`) and fairness (`Equalized Odds Difference`) of the `GridSearch`, `ThreshholdOptimizer` and `Unmitigated` models."
   ]
  },
  {
   "cell_type": "code",
   "execution_count": 19,
   "metadata": {
    "id": "SLqk85Zu-jB4"
   },
   "outputs": [
    {
     "name": "stderr",
     "output_type": "stream",
     "text": [
      "/Users/yvonnezuo/opt/anaconda3/lib/python3.8/site-packages/sklearn/utils/validation.py:63: FutureWarning: Arrays of bytes/strings is being converted to decimal numbers if dtype='numeric'. This behavior is deprecated in 0.24 and will be removed in 1.1 (renaming of 0.26). Please convert your data to numeric values explicitly instead.\n",
      "  return f(*args, **kwargs)\n",
      "--- Logging error ---\n",
      "Traceback (most recent call last):\n",
      "  File \"/Users/yvonnezuo/opt/anaconda3/lib/python3.8/logging/__init__.py\", line 1081, in emit\n",
      "    msg = self.format(record)\n",
      "  File \"/Users/yvonnezuo/opt/anaconda3/lib/python3.8/logging/__init__.py\", line 925, in format\n",
      "    return fmt.format(record)\n",
      "  File \"/Users/yvonnezuo/opt/anaconda3/lib/python3.8/logging/__init__.py\", line 664, in format\n",
      "    record.message = record.getMessage()\n",
      "  File \"/Users/yvonnezuo/opt/anaconda3/lib/python3.8/logging/__init__.py\", line 369, in getMessage\n",
      "    msg = msg % self.args\n",
      "TypeError: not all arguments converted during string formatting\n",
      "Call stack:\n",
      "  File \"/Users/yvonnezuo/opt/anaconda3/lib/python3.8/runpy.py\", line 194, in _run_module_as_main\n",
      "    return _run_code(code, main_globals, None,\n",
      "  File \"/Users/yvonnezuo/opt/anaconda3/lib/python3.8/runpy.py\", line 87, in _run_code\n",
      "    exec(code, run_globals)\n",
      "  File \"/Users/yvonnezuo/opt/anaconda3/lib/python3.8/site-packages/ipykernel_launcher.py\", line 16, in <module>\n",
      "    app.launch_new_instance()\n",
      "  File \"/Users/yvonnezuo/opt/anaconda3/lib/python3.8/site-packages/traitlets/config/application.py\", line 845, in launch_instance\n",
      "    app.start()\n",
      "  File \"/Users/yvonnezuo/opt/anaconda3/lib/python3.8/site-packages/ipykernel/kernelapp.py\", line 612, in start\n",
      "    self.io_loop.start()\n",
      "  File \"/Users/yvonnezuo/opt/anaconda3/lib/python3.8/site-packages/tornado/platform/asyncio.py\", line 199, in start\n",
      "    self.asyncio_loop.run_forever()\n",
      "  File \"/Users/yvonnezuo/opt/anaconda3/lib/python3.8/asyncio/base_events.py\", line 570, in run_forever\n",
      "    self._run_once()\n",
      "  File \"/Users/yvonnezuo/opt/anaconda3/lib/python3.8/asyncio/base_events.py\", line 1859, in _run_once\n",
      "    handle._run()\n",
      "  File \"/Users/yvonnezuo/opt/anaconda3/lib/python3.8/asyncio/events.py\", line 81, in _run\n",
      "    self._context.run(self._callback, *self._args)\n",
      "  File \"/Users/yvonnezuo/opt/anaconda3/lib/python3.8/site-packages/tornado/ioloop.py\", line 688, in <lambda>\n",
      "    lambda f: self._run_callback(functools.partial(callback, future))\n",
      "  File \"/Users/yvonnezuo/opt/anaconda3/lib/python3.8/site-packages/tornado/ioloop.py\", line 741, in _run_callback\n",
      "    ret = callback()\n",
      "  File \"/Users/yvonnezuo/opt/anaconda3/lib/python3.8/site-packages/tornado/gen.py\", line 814, in inner\n",
      "    self.ctx_run(self.run)\n",
      "  File \"/Users/yvonnezuo/opt/anaconda3/lib/python3.8/site-packages/tornado/gen.py\", line 775, in run\n",
      "    yielded = self.gen.send(value)\n",
      "  File \"/Users/yvonnezuo/opt/anaconda3/lib/python3.8/site-packages/ipykernel/kernelbase.py\", line 365, in process_one\n",
      "    yield gen.maybe_future(dispatch(*args))\n",
      "  File \"/Users/yvonnezuo/opt/anaconda3/lib/python3.8/site-packages/tornado/gen.py\", line 234, in wrapper\n",
      "    yielded = ctx_run(next, result)\n",
      "  File \"/Users/yvonnezuo/opt/anaconda3/lib/python3.8/site-packages/ipykernel/kernelbase.py\", line 268, in dispatch_shell\n",
      "    yield gen.maybe_future(handler(stream, idents, msg))\n",
      "  File \"/Users/yvonnezuo/opt/anaconda3/lib/python3.8/site-packages/tornado/gen.py\", line 234, in wrapper\n",
      "    yielded = ctx_run(next, result)\n",
      "  File \"/Users/yvonnezuo/opt/anaconda3/lib/python3.8/site-packages/ipykernel/kernelbase.py\", line 543, in execute_request\n",
      "    self.do_execute(\n",
      "  File \"/Users/yvonnezuo/opt/anaconda3/lib/python3.8/site-packages/tornado/gen.py\", line 234, in wrapper\n",
      "    yielded = ctx_run(next, result)\n",
      "  File \"/Users/yvonnezuo/opt/anaconda3/lib/python3.8/site-packages/ipykernel/ipkernel.py\", line 306, in do_execute\n",
      "    res = shell.run_cell(code, store_history=store_history, silent=silent)\n",
      "  File \"/Users/yvonnezuo/opt/anaconda3/lib/python3.8/site-packages/ipykernel/zmqshell.py\", line 536, in run_cell\n",
      "    return super(ZMQInteractiveShell, self).run_cell(*args, **kwargs)\n",
      "  File \"/Users/yvonnezuo/opt/anaconda3/lib/python3.8/site-packages/IPython/core/interactiveshell.py\", line 2894, in run_cell\n",
      "    result = self._run_cell(\n",
      "  File \"/Users/yvonnezuo/opt/anaconda3/lib/python3.8/site-packages/IPython/core/interactiveshell.py\", line 2940, in _run_cell\n",
      "    return runner(coro)\n",
      "  File \"/Users/yvonnezuo/opt/anaconda3/lib/python3.8/site-packages/IPython/core/async_helpers.py\", line 68, in _pseudo_sync_runner\n",
      "    coro.send(None)\n",
      "  File \"/Users/yvonnezuo/opt/anaconda3/lib/python3.8/site-packages/IPython/core/interactiveshell.py\", line 3165, in run_cell_async\n",
      "    has_raised = await self.run_ast_nodes(code_ast.body, cell_name,\n",
      "  File \"/Users/yvonnezuo/opt/anaconda3/lib/python3.8/site-packages/IPython/core/interactiveshell.py\", line 3357, in run_ast_nodes\n",
      "    if (await self.run_code(code, result,  async_=asy)):\n",
      "  File \"/Users/yvonnezuo/opt/anaconda3/lib/python3.8/site-packages/IPython/core/interactiveshell.py\", line 3437, in run_code\n",
      "    exec(code_obj, self.user_global_ns, self.user_ns)\n",
      "  File \"<ipython-input-19-86f792f0f3f5>\", line 7, in <module>\n",
      "    sweep.fit(df_train_balanced, Y_train_balanced, sensitive_features=A_train_balanced)\n",
      "  File \"/Users/yvonnezuo/opt/anaconda3/lib/python3.8/site-packages/fairlearn/reductions/_grid_search/grid_search.py\", line 148, in fit\n",
      "    grid = _GridGenerator(self.grid_size,\n",
      "  File \"/Users/yvonnezuo/opt/anaconda3/lib/python3.8/site-packages/fairlearn/reductions/_grid_search/_grid_generator.py\", line 61, in __init__\n",
      "    logger.warning(GRID_DIMENSION_WARN_TEMPLATE, true_dim, GRID_DIMENSION_WARN_THRESHOLD)\n",
      "Message: 'The grid has {} dimensions. It is not recommended to use more than {}, otherwise a prohibitively large grid size is required to explore the space thoroughly. For such cases consider using ExponentiatedGradient from the fairlearn.reductions module.'\n",
      "Arguments: (6, 4)\n",
      "--- Logging error ---\n",
      "Traceback (most recent call last):\n",
      "  File \"/Users/yvonnezuo/opt/anaconda3/lib/python3.8/logging/__init__.py\", line 1081, in emit\n",
      "    msg = self.format(record)\n",
      "  File \"/Users/yvonnezuo/opt/anaconda3/lib/python3.8/logging/__init__.py\", line 925, in format\n",
      "    return fmt.format(record)\n",
      "  File \"/Users/yvonnezuo/opt/anaconda3/lib/python3.8/logging/__init__.py\", line 664, in format\n",
      "    record.message = record.getMessage()\n",
      "  File \"/Users/yvonnezuo/opt/anaconda3/lib/python3.8/logging/__init__.py\", line 369, in getMessage\n",
      "    msg = msg % self.args\n",
      "TypeError: not all arguments converted during string formatting\n",
      "Call stack:\n",
      "  File \"/Users/yvonnezuo/opt/anaconda3/lib/python3.8/runpy.py\", line 194, in _run_module_as_main\n",
      "    return _run_code(code, main_globals, None,\n",
      "  File \"/Users/yvonnezuo/opt/anaconda3/lib/python3.8/runpy.py\", line 87, in _run_code\n",
      "    exec(code, run_globals)\n",
      "  File \"/Users/yvonnezuo/opt/anaconda3/lib/python3.8/site-packages/ipykernel_launcher.py\", line 16, in <module>\n",
      "    app.launch_new_instance()\n",
      "  File \"/Users/yvonnezuo/opt/anaconda3/lib/python3.8/site-packages/traitlets/config/application.py\", line 845, in launch_instance\n",
      "    app.start()\n",
      "  File \"/Users/yvonnezuo/opt/anaconda3/lib/python3.8/site-packages/ipykernel/kernelapp.py\", line 612, in start\n",
      "    self.io_loop.start()\n",
      "  File \"/Users/yvonnezuo/opt/anaconda3/lib/python3.8/site-packages/tornado/platform/asyncio.py\", line 199, in start\n",
      "    self.asyncio_loop.run_forever()\n",
      "  File \"/Users/yvonnezuo/opt/anaconda3/lib/python3.8/asyncio/base_events.py\", line 570, in run_forever\n",
      "    self._run_once()\n",
      "  File \"/Users/yvonnezuo/opt/anaconda3/lib/python3.8/asyncio/base_events.py\", line 1859, in _run_once\n",
      "    handle._run()\n",
      "  File \"/Users/yvonnezuo/opt/anaconda3/lib/python3.8/asyncio/events.py\", line 81, in _run\n",
      "    self._context.run(self._callback, *self._args)\n",
      "  File \"/Users/yvonnezuo/opt/anaconda3/lib/python3.8/site-packages/tornado/ioloop.py\", line 688, in <lambda>\n",
      "    lambda f: self._run_callback(functools.partial(callback, future))\n",
      "  File \"/Users/yvonnezuo/opt/anaconda3/lib/python3.8/site-packages/tornado/ioloop.py\", line 741, in _run_callback\n",
      "    ret = callback()\n",
      "  File \"/Users/yvonnezuo/opt/anaconda3/lib/python3.8/site-packages/tornado/gen.py\", line 814, in inner\n",
      "    self.ctx_run(self.run)\n",
      "  File \"/Users/yvonnezuo/opt/anaconda3/lib/python3.8/site-packages/tornado/gen.py\", line 775, in run\n",
      "    yielded = self.gen.send(value)\n",
      "  File \"/Users/yvonnezuo/opt/anaconda3/lib/python3.8/site-packages/ipykernel/kernelbase.py\", line 365, in process_one\n",
      "    yield gen.maybe_future(dispatch(*args))\n",
      "  File \"/Users/yvonnezuo/opt/anaconda3/lib/python3.8/site-packages/tornado/gen.py\", line 234, in wrapper\n",
      "    yielded = ctx_run(next, result)\n",
      "  File \"/Users/yvonnezuo/opt/anaconda3/lib/python3.8/site-packages/ipykernel/kernelbase.py\", line 268, in dispatch_shell\n",
      "    yield gen.maybe_future(handler(stream, idents, msg))\n",
      "  File \"/Users/yvonnezuo/opt/anaconda3/lib/python3.8/site-packages/tornado/gen.py\", line 234, in wrapper\n",
      "    yielded = ctx_run(next, result)\n",
      "  File \"/Users/yvonnezuo/opt/anaconda3/lib/python3.8/site-packages/ipykernel/kernelbase.py\", line 543, in execute_request\n",
      "    self.do_execute(\n",
      "  File \"/Users/yvonnezuo/opt/anaconda3/lib/python3.8/site-packages/tornado/gen.py\", line 234, in wrapper\n",
      "    yielded = ctx_run(next, result)\n",
      "  File \"/Users/yvonnezuo/opt/anaconda3/lib/python3.8/site-packages/ipykernel/ipkernel.py\", line 306, in do_execute\n",
      "    res = shell.run_cell(code, store_history=store_history, silent=silent)\n",
      "  File \"/Users/yvonnezuo/opt/anaconda3/lib/python3.8/site-packages/ipykernel/zmqshell.py\", line 536, in run_cell\n",
      "    return super(ZMQInteractiveShell, self).run_cell(*args, **kwargs)\n",
      "  File \"/Users/yvonnezuo/opt/anaconda3/lib/python3.8/site-packages/IPython/core/interactiveshell.py\", line 2894, in run_cell\n",
      "    result = self._run_cell(\n",
      "  File \"/Users/yvonnezuo/opt/anaconda3/lib/python3.8/site-packages/IPython/core/interactiveshell.py\", line 2940, in _run_cell\n",
      "    return runner(coro)\n",
      "  File \"/Users/yvonnezuo/opt/anaconda3/lib/python3.8/site-packages/IPython/core/async_helpers.py\", line 68, in _pseudo_sync_runner\n",
      "    coro.send(None)\n",
      "  File \"/Users/yvonnezuo/opt/anaconda3/lib/python3.8/site-packages/IPython/core/interactiveshell.py\", line 3165, in run_cell_async\n",
      "    has_raised = await self.run_ast_nodes(code_ast.body, cell_name,\n",
      "  File \"/Users/yvonnezuo/opt/anaconda3/lib/python3.8/site-packages/IPython/core/interactiveshell.py\", line 3357, in run_ast_nodes\n",
      "    if (await self.run_code(code, result,  async_=asy)):\n",
      "  File \"/Users/yvonnezuo/opt/anaconda3/lib/python3.8/site-packages/IPython/core/interactiveshell.py\", line 3437, in run_code\n",
      "    exec(code_obj, self.user_global_ns, self.user_ns)\n",
      "  File \"<ipython-input-19-86f792f0f3f5>\", line 7, in <module>\n",
      "    sweep.fit(df_train_balanced, Y_train_balanced, sensitive_features=A_train_balanced)\n",
      "  File \"/Users/yvonnezuo/opt/anaconda3/lib/python3.8/site-packages/fairlearn/reductions/_grid_search/grid_search.py\", line 148, in fit\n",
      "    grid = _GridGenerator(self.grid_size,\n",
      "  File \"/Users/yvonnezuo/opt/anaconda3/lib/python3.8/site-packages/fairlearn/reductions/_grid_search/_grid_generator.py\", line 65, in __init__\n",
      "    logger.warning(GRID_SIZE_WARN_TEMPLATE, grid_size, recommended_min_grid_size)\n",
      "Message: 'Generating a grid with {} grid points. It is recommended to use at least {} grid points. Please consider increasing grid_size.'\n",
      "Arguments: (41, 64)\n"
     ]
    },
    {
     "name": "stdout",
     "output_type": "stream",
     "text": [
      "Finished loading model, total used 100 iterations\n",
      "Finished loading model, total used 100 iterations\n",
      "Finished loading model, total used 100 iterations\n",
      "Finished loading model, total used 100 iterations\n",
      "Finished loading model, total used 100 iterations\n",
      "Finished loading model, total used 100 iterations\n",
      "Finished loading model, total used 100 iterations\n",
      "Finished loading model, total used 100 iterations\n",
      "Finished loading model, total used 100 iterations\n",
      "Finished loading model, total used 100 iterations\n",
      "Finished loading model, total used 100 iterations\n",
      "Finished loading model, total used 100 iterations\n",
      "Finished loading model, total used 100 iterations\n",
      "Finished loading model, total used 100 iterations\n",
      "Finished loading model, total used 100 iterations\n",
      "Finished loading model, total used 100 iterations\n",
      "Finished loading model, total used 100 iterations\n",
      "Finished loading model, total used 100 iterations\n",
      "Finished loading model, total used 100 iterations\n",
      "Finished loading model, total used 100 iterations\n",
      "Finished loading model, total used 100 iterations\n",
      "Finished loading model, total used 100 iterations\n",
      "Finished loading model, total used 100 iterations\n",
      "Finished loading model, total used 100 iterations\n",
      "Finished loading model, total used 100 iterations\n",
      "Finished loading model, total used 100 iterations\n",
      "Finished loading model, total used 100 iterations\n",
      "Finished loading model, total used 100 iterations\n",
      "Finished loading model, total used 100 iterations\n",
      "Finished loading model, total used 100 iterations\n",
      "Finished loading model, total used 100 iterations\n",
      "Finished loading model, total used 100 iterations\n",
      "Finished loading model, total used 100 iterations\n",
      "Finished loading model, total used 100 iterations\n",
      "Finished loading model, total used 100 iterations\n",
      "Finished loading model, total used 100 iterations\n",
      "Finished loading model, total used 100 iterations\n",
      "Finished loading model, total used 100 iterations\n",
      "Finished loading model, total used 100 iterations\n",
      "Finished loading model, total used 100 iterations\n",
      "Finished loading model, total used 100 iterations\n"
     ]
    }
   ],
   "source": [
    "# Train GridSearch\n",
    "sweep = GridSearch(model,\n",
    "                   constraints=EqualizedOdds(),\n",
    "                   grid_size=41,\n",
    "                   grid_limit=2)\n",
    "\n",
    "sweep.fit(df_train_balanced, Y_train_balanced, sensitive_features=A_train_balanced)\n",
    "\n",
    "sweep_preds = [predictor.predict(df_test) for predictor in sweep.predictors_] \n",
    "sweep_scores = [predictor.predict_proba(df_test)[:, 1] for predictor in sweep.predictors_] \n",
    "\n",
    "equalized_odds_sweep = [\n",
    "    equalized_odds_difference(Y_test, preds, sensitive_features=A_str_test)\n",
    "    for preds in sweep_preds\n",
    "]\n",
    "balanced_accuracy_sweep = [balanced_accuracy_score(Y_test, preds) for preds in sweep_preds]\n",
    "auc_sweep = [roc_auc_score(Y_test, scores) for scores in sweep_scores]\n",
    "\n",
    "all_results = pd.DataFrame(\n",
    "    {\"predictor\": sweep.predictors_, \"accuracy\": balanced_accuracy_sweep, \"disparity\": equalized_odds_sweep}\n",
    ") \n",
    "non_dominated = [] \n",
    "for row in all_results.itertuples(): \n",
    "    accuracy_for_lower_or_eq_disparity = all_results[\"accuracy\"][all_results[\"disparity\"] <= row.disparity] \n",
    "    if row.accuracy >= accuracy_for_lower_or_eq_disparity.max(): \n",
    "        non_dominated.append(True)\n",
    "    else:\n",
    "        non_dominated.append(False)\n",
    "\n",
    "equalized_odds_sweep_non_dominated = np.asarray(equalized_odds_sweep)[non_dominated]\n",
    "balanced_accuracy_non_dominated = np.asarray(balanced_accuracy_sweep)[non_dominated]\n",
    "auc_non_dominated = np.asarray(auc_sweep)[non_dominated]\n",
    "\n"
   ]
  },
  {
   "cell_type": "code",
   "execution_count": 20,
   "metadata": {},
   "outputs": [
    {
     "data": {
      "image/png": "[encoded data removed]",
      "text/plain": [
       "<Figure size 432x288 with 1 Axes>"
      ]
     },
     "metadata": {
      "needs_background": "light"
     },
     "output_type": "display_data"
    }
   ],
   "source": [
    "# Plot equalized odds difference vs balanced accuracy\n",
    "plt.scatter(balanced_accuracy_non_dominated, equalized_odds_sweep_non_dominated, label=\"GridSearch Models\")\n",
    "plt.scatter(balanced_accuracy_score(Y_test, test_preds),\n",
    "            equalized_odds_difference(Y_test, test_preds, sensitive_features=A_str_test), \n",
    "            label=\"Unmitigated Model\")\n",
    "plt.scatter(balanced_accuracy_score(Y_test, postprocess_preds), \n",
    "            equalized_odds_difference(Y_test, postprocess_preds, sensitive_features=A_str_test),\n",
    "            label=\"ThresholdOptimizer Model\")\n",
    "plt.xlabel(\"Balanced Accuracy\")\n",
    "plt.ylabel(\"Equalized Odds Difference\")\n",
    "plt.legend(bbox_to_anchor=(1.55, 1))\n",
    "plt.show()"
   ]
  },
  {
   "cell_type": "code",
   "execution_count": 21,
   "metadata": {},
   "outputs": [
    {
     "data": {
      "image/png": "[encoded data removed]",
      "text/plain": [
       "<Figure size 432x288 with 1 Axes>"
      ]
     },
     "metadata": {
      "needs_background": "light"
     },
     "output_type": "display_data"
    }
   ],
   "source": [
    "# Plot equalized odds difference vs AUC\n",
    "plt.scatter(auc_non_dominated, equalized_odds_sweep_non_dominated, label=\"GridSearch Models\")\n",
    "plt.scatter(roc_auc_score(Y_test, test_scores),\n",
    "            equalized_odds_difference(Y_test, test_preds, sensitive_features=A_str_test), \n",
    "            label=\"Unmitigated Model\")\n",
    "plt.scatter(roc_auc_score(Y_test, postprocess_preds), \n",
    "            equalized_odds_difference(Y_test, postprocess_preds, sensitive_features=A_str_test),\n",
    "            label=\"ThresholdOptimizer Model\")\n",
    "plt.xlabel(\"AUC\")\n",
    "plt.ylabel(\"Equalized Odds Difference\")\n",
    "plt.legend(bbox_to_anchor=(1.55, 1))\n",
    "plt.show()"
   ]
  },
  {
   "cell_type": "code",
   "execution_count": 22,
   "metadata": {},
   "outputs": [],
   "source": [
    "model_sweep_dict = {\"GridSearch_{}\".format(i): sweep_preds[i] for i in range(len(sweep_preds)) if non_dominated[i]}\n",
    "model_sweep_dict.update({\"Unmitigated\": test_preds, \"ThresholdOptimizer\": postprocess_preds})"
   ]
  },
  {
   "cell_type": "markdown",
   "metadata": {
    "id": "_9F0qYZn-jB5"
   },
   "source": [
    "Use `FairlearnDashboard` to compare the disparity in accuracy and predictions of the trained models."
   ]
  },
  {
   "cell_type": "code",
   "execution_count": 23,
   "metadata": {
    "id": "l0zlXb4e-jB6"
   },
   "outputs": [
    {
     "name": "stderr",
     "output_type": "stream",
     "text": [
      "/Users/yvonnezuo/opt/anaconda3/lib/python3.8/site-packages/fairlearn/widget/_fairlearn_dashboard.py:47: UserWarning: The FairlearnDashboard will move from Fairlearn to the raiwidgets package after the v0.5.0 release. Instead, Fairlearn will provide some of the existing functionality through matplotlib-based visualizations.\n",
      "  warn(\"The FairlearnDashboard will move from Fairlearn to the \"\n"
     ]
    },
    {
     "data": {
      "application/vnd.jupyter.widget-view+json": {
       "model_id": "30023d1e30c341d8838a55d644bdb116",
       "version_major": 2,
       "version_minor": 0
      },
      "text/plain": [
       "FairlearnWidget(value={'true_y': [1, 0, 0, 1, 0, 0, 0, 1, 0, 0, 0, 1, 0, 0, 0, 0, 1, 0, 1, 0, 0, 0, 1, 0, 0, 1…"
      ]
     },
     "metadata": {},
     "output_type": "display_data"
    },
    {
     "data": {
      "text/plain": [
       "<fairlearn.widget._fairlearn_dashboard.FairlearnDashboard at 0x7ff55aeead60>"
      ]
     },
     "execution_count": 23,
     "metadata": {},
     "output_type": "execute_result"
    }
   ],
   "source": [
    "FairlearnDashboard(sensitive_features=A_str_test, sensitive_feature_names=['JOB'],\n",
    "                   y_true=Y_test,\n",
    "                   y_pred=model_sweep_dict)"
   ]
  },
  {
   "cell_type": "markdown",
   "metadata": {},
   "source": [
    "My ultimate goal is to find a model with the highest accuracy and the lowest dispararity.\n",
    "So I would like to choose the GridSearch_6 model. It performs best in accuracy,\n",
    "with the highest overall accuracy of 80%, and the lowest disparity of 5.46%."
   ]
  }
 ],
 "metadata": {
  "colab": {
   "collapsed_sections": [
    "gEPzNBeo-jBl",
    "lQzWatlT-jBn",
    "zDf5eHTE-jBs",
    "Aefwk-nl-jBu",
    "PJLZzcER-jBy",
    "zi1Ixaty-jB0",
    "cTQYkxe_-jB4"
   ],
   "name": "Lab2_assignment.ipynb",
   "provenance": []
  },
  "kernelspec": {
   "display_name": "Python 3.8.8 ('base')",
   "language": "python",
   "name": "python388jvsc74a57bd02b69464f66f05b8ae09cc61c14c482916930a8176eea94eb45f9f1b5223a0383"
  },
  "language_info": {
   "codemirror_mode": {
    "name": "ipython",
    "version": 3
   },
   "file_extension": ".py",
   "mimetype": "text/x-python",
   "name": "python",
   "nbconvert_exporter": "python",
   "pygments_lexer": "ipython3",
   "version": "3.8.8"
  },
  "widgets": {
   "application/vnd.jupyter.widget-state+json": {
    "12b6e0f768444f5aa84861878cce1b40": {
     "model_module": "fairlearn-widget",
     "model_module_version": "^0.1.1",
     "model_name": "FairlearnModel",
     "state": {
      "_dom_classes": [],
      "_model_module": "fairlearn-widget",
      "_model_module_version": "^0.1.1",
      "_model_name": "FairlearnModel",
      "_view_count": null,
      "_view_module": "fairlearn-widget",
      "_view_module_version": "^0.1.1",
      "_view_name": "FairlearnView",
      "layout": "IPY_MODEL_b74addf10bdc4b26b3d4276d1a4ba646",
      "request": {},
      "response": {},
      "value": {
       "classification_methods": [
        "accuracy_score",
        "balanced_accuracy_score",
        "precision_score",
        "recall_score",
        "f1_score"
       ],
       "dataset": [
        [
         "unskilled - resident"
        ],
        [
         "skilled employee / official"
        ],
        [
         "unskilled - resident"
        ],
        [
         "unskilled - resident"
        ],
        [
         "unskilled - resident"
        ],
        [
         "unskilled - resident"
        ],
        [
         "unskilled - resident"
        ],
        [
         "skilled employee / official"
        ],
        [
         "unskilled - resident"
        ],
        [
         "management/ self-employed/ highly qualified employee/ officer"
        ],
        [
         "skilled employee / official"
        ],
        [
         "management/ self-employed/ highly qualified employee/ officer"
        ],
        [
         "skilled employee / official"
        ],
        [
         "skilled employee / official"
        ],
        [
         "unskilled - resident"
        ],
        [
         "management/ self-employed/ highly qualified employee/ officer"
        ],
        [
         "skilled employee / official"
        ],
        [
         "skilled employee / official"
        ],
        [
         "skilled employee / official"
        ],
        [
         "skilled employee / official"
        ],
        [
         "management/ self-employed/ highly qualified employee/ officer"
        ],
        [
         "unskilled - resident"
        ],
        [
         "skilled employee / official"
        ],
        [
         "unskilled - resident"
        ],
        [
         "skilled employee / official"
        ],
        [
         "management/ self-employed/ highly qualified employee/ officer"
        ],
        [
         "unskilled - resident"
        ],
        [
         "skilled employee / official"
        ],
        [
         "management/ self-employed/ highly qualified employee/ officer"
        ],
        [
         "skilled employee / official"
        ],
        [
         "skilled employee / official"
        ],
        [
         "skilled employee / official"
        ],
        [
         "skilled employee / official"
        ],
        [
         "skilled employee / official"
        ],
        [
         "skilled employee / official"
        ],
        [
         "skilled employee / official"
        ],
        [
         "skilled employee / official"
        ],
        [
         "skilled employee / official"
        ],
        [
         "skilled employee / official"
        ],
        [
         "skilled employee / official"
        ],
        [
         "skilled employee / official"
        ],
        [
         "unskilled - resident"
        ],
        [
         "unskilled - resident"
        ],
        [
         "management/ self-employed/ highly qualified employee/ officer"
        ],
        [
         "management/ self-employed/ highly qualified employee/ officer"
        ],
        [
         "management/ self-employed/ highly qualified employee/ officer"
        ],
        [
         "skilled employee / official"
        ],
        [
         "unskilled - resident"
        ],
        [
         "skilled employee / official"
        ],
        [
         "skilled employee / official"
        ],
        [
         "skilled employee / official"
        ],
        [
         "skilled employee / official"
        ],
        [
         "skilled employee / official"
        ],
        [
         "skilled employee / official"
        ],
        [
         "skilled employee / official"
        ],
        [
         "unskilled - resident"
        ],
        [
         "skilled employee / official"
        ],
        [
         "management/ self-employed/ highly qualified employee/ officer"
        ],
        [
         "skilled employee / official"
        ],
        [
         "unskilled - resident"
        ],
        [
         "skilled employee / official"
        ],
        [
         "skilled employee / official"
        ],
        [
         "unemployed/ unskilled  - non-resident"
        ],
        [
         "skilled employee / official"
        ],
        [
         "skilled employee / official"
        ],
        [
         "management/ self-employed/ highly qualified employee/ officer"
        ],
        [
         "skilled employee / official"
        ],
        [
         "management/ self-employed/ highly qualified employee/ officer"
        ],
        [
         "unskilled - resident"
        ],
        [
         "unskilled - resident"
        ],
        [
         "unskilled - resident"
        ],
        [
         "skilled employee / official"
        ],
        [
         "skilled employee / official"
        ],
        [
         "skilled employee / official"
        ],
        [
         "management/ self-employed/ highly qualified employee/ officer"
        ],
        [
         "skilled employee / official"
        ],
        [
         "skilled employee / official"
        ],
        [
         "unskilled - resident"
        ],
        [
         "management/ self-employed/ highly qualified employee/ officer"
        ],
        [
         "skilled employee / official"
        ],
        [
         "management/ self-employed/ highly qualified employee/ officer"
        ],
        [
         "skilled employee / official"
        ],
        [
         "management/ self-employed/ highly qualified employee/ officer"
        ],
        [
         "skilled employee / official"
        ],
        [
         "skilled employee / official"
        ],
        [
         "skilled employee / official"
        ],
        [
         "unskilled - resident"
        ],
        [
         "skilled employee / official"
        ],
        [
         "skilled employee / official"
        ],
        [
         "unemployed/ unskilled  - non-resident"
        ],
        [
         "unskilled - resident"
        ],
        [
         "management/ self-employed/ highly qualified employee/ officer"
        ],
        [
         "skilled employee / official"
        ],
        [
         "skilled employee / official"
        ],
        [
         "skilled employee / official"
        ],
        [
         "skilled employee / official"
        ],
        [
         "skilled employee / official"
        ],
        [
         "skilled employee / official"
        ],
        [
         "unskilled - resident"
        ],
        [
         "skilled employee / official"
        ],
        [
         "skilled employee / official"
        ],
        [
         "skilled employee / official"
        ],
        [
         "unemployed/ unskilled  - non-resident"
        ],
        [
         "skilled employee / official"
        ],
        [
         "unskilled - resident"
        ],
        [
         "skilled employee / official"
        ],
        [
         "unskilled - resident"
        ],
        [
         "skilled employee / official"
        ],
        [
         "unskilled - resident"
        ],
        [
         "unskilled - resident"
        ],
        [
         "skilled employee / official"
        ],
        [
         "skilled employee / official"
        ],
        [
         "unskilled - resident"
        ],
        [
         "skilled employee / official"
        ],
        [
         "skilled employee / official"
        ],
        [
         "skilled employee / official"
        ],
        [
         "skilled employee / official"
        ],
        [
         "unskilled - resident"
        ],
        [
         "management/ self-employed/ highly qualified employee/ officer"
        ],
        [
         "unskilled - resident"
        ],
        [
         "skilled employee / official"
        ],
        [
         "skilled employee / official"
        ],
        [
         "management/ self-employed/ highly qualified employee/ officer"
        ],
        [
         "skilled employee / official"
        ],
        [
         "unskilled - resident"
        ],
        [
         "skilled employee / official"
        ],
        [
         "skilled employee / official"
        ],
        [
         "skilled employee / official"
        ],
        [
         "unskilled - resident"
        ],
        [
         "skilled employee / official"
        ],
        [
         "skilled employee / official"
        ],
        [
         "unskilled - resident"
        ],
        [
         "skilled employee / official"
        ],
        [
         "skilled employee / official"
        ],
        [
         "unskilled - resident"
        ],
        [
         "skilled employee / official"
        ],
        [
         "skilled employee / official"
        ],
        [
         "skilled employee / official"
        ],
        [
         "skilled employee / official"
        ],
        [
         "skilled employee / official"
        ],
        [
         "skilled employee / official"
        ],
        [
         "management/ self-employed/ highly qualified employee/ officer"
        ],
        [
         "management/ self-employed/ highly qualified employee/ officer"
        ],
        [
         "skilled employee / official"
        ],
        [
         "skilled employee / official"
        ],
        [
         "skilled employee / official"
        ],
        [
         "unskilled - resident"
        ],
        [
         "skilled employee / official"
        ],
        [
         "skilled employee / official"
        ],
        [
         "skilled employee / official"
        ],
        [
         "skilled employee / official"
        ],
        [
         "unskilled - resident"
        ],
        [
         "unskilled - resident"
        ],
        [
         "skilled employee / official"
        ],
        [
         "skilled employee / official"
        ],
        [
         "management/ self-employed/ highly qualified employee/ officer"
        ],
        [
         "skilled employee / official"
        ],
        [
         "management/ self-employed/ highly qualified employee/ officer"
        ],
        [
         "skilled employee / official"
        ],
        [
         "skilled employee / official"
        ],
        [
         "skilled employee / official"
        ],
        [
         "skilled employee / official"
        ],
        [
         "skilled employee / official"
        ],
        [
         "unskilled - resident"
        ],
        [
         "skilled employee / official"
        ],
        [
         "skilled employee / official"
        ],
        [
         "skilled employee / official"
        ],
        [
         "skilled employee / official"
        ],
        [
         "management/ self-employed/ highly qualified employee/ officer"
        ],
        [
         "skilled employee / official"
        ],
        [
         "skilled employee / official"
        ],
        [
         "skilled employee / official"
        ],
        [
         "skilled employee / official"
        ],
        [
         "management/ self-employed/ highly qualified employee/ officer"
        ],
        [
         "management/ self-employed/ highly qualified employee/ officer"
        ],
        [
         "management/ self-employed/ highly qualified employee/ officer"
        ],
        [
         "unskilled - resident"
        ],
        [
         "skilled employee / official"
        ],
        [
         "management/ self-employed/ highly qualified employee/ officer"
        ],
        [
         "unskilled - resident"
        ],
        [
         "skilled employee / official"
        ],
        [
         "skilled employee / official"
        ],
        [
         "skilled employee / official"
        ],
        [
         "skilled employee / official"
        ],
        [
         "unskilled - resident"
        ],
        [
         "management/ self-employed/ highly qualified employee/ officer"
        ],
        [
         "skilled employee / official"
        ],
        [
         "unskilled - resident"
        ],
        [
         "unskilled - resident"
        ],
        [
         "management/ self-employed/ highly qualified employee/ officer"
        ],
        [
         "skilled employee / official"
        ],
        [
         "skilled employee / official"
        ],
        [
         "skilled employee / official"
        ],
        [
         "skilled employee / official"
        ],
        [
         "management/ self-employed/ highly qualified employee/ officer"
        ],
        [
         "skilled employee / official"
        ],
        [
         "unskilled - resident"
        ],
        [
         "management/ self-employed/ highly qualified employee/ officer"
        ],
        [
         "skilled employee / official"
        ],
        [
         "management/ self-employed/ highly qualified employee/ officer"
        ],
        [
         "skilled employee / official"
        ],
        [
         "skilled employee / official"
        ],
        [
         "unskilled - resident"
        ],
        [
         "management/ self-employed/ highly qualified employee/ officer"
        ],
        [
         "skilled employee / official"
        ],
        [
         "management/ self-employed/ highly qualified employee/ officer"
        ],
        [
         "management/ self-employed/ highly qualified employee/ officer"
        ],
        [
         "skilled employee / official"
        ],
        [
         "unskilled - resident"
        ],
        [
         "unskilled - resident"
        ],
        [
         "skilled employee / official"
        ],
        [
         "unskilled - resident"
        ],
        [
         "management/ self-employed/ highly qualified employee/ officer"
        ],
        [
         "unskilled - resident"
        ],
        [
         "skilled employee / official"
        ],
        [
         "skilled employee / official"
        ],
        [
         "unskilled - resident"
        ],
        [
         "skilled employee / official"
        ],
        [
         "skilled employee / official"
        ],
        [
         "skilled employee / official"
        ],
        [
         "skilled employee / official"
        ],
        [
         "skilled employee / official"
        ],
        [
         "management/ self-employed/ highly qualified employee/ officer"
        ],
        [
         "unskilled - resident"
        ],
        [
         "skilled employee / official"
        ],
        [
         "skilled employee / official"
        ],
        [
         "skilled employee / official"
        ],
        [
         "skilled employee / official"
        ],
        [
         "skilled employee / official"
        ],
        [
         "unskilled - resident"
        ],
        [
         "unskilled - resident"
        ],
        [
         "skilled employee / official"
        ],
        [
         "skilled employee / official"
        ],
        [
         "skilled employee / official"
        ],
        [
         "skilled employee / official"
        ],
        [
         "management/ self-employed/ highly qualified employee/ officer"
        ],
        [
         "unskilled - resident"
        ],
        [
         "unemployed/ unskilled  - non-resident"
        ],
        [
         "unskilled - resident"
        ],
        [
         "management/ self-employed/ highly qualified employee/ officer"
        ],
        [
         "unskilled - resident"
        ],
        [
         "skilled employee / official"
        ],
        [
         "skilled employee / official"
        ],
        [
         "management/ self-employed/ highly qualified employee/ officer"
        ],
        [
         "skilled employee / official"
        ],
        [
         "skilled employee / official"
        ],
        [
         "unskilled - resident"
        ],
        [
         "management/ self-employed/ highly qualified employee/ officer"
        ],
        [
         "management/ self-employed/ highly qualified employee/ officer"
        ],
        [
         "management/ self-employed/ highly qualified employee/ officer"
        ],
        [
         "skilled employee / official"
        ],
        [
         "unskilled - resident"
        ],
        [
         "management/ self-employed/ highly qualified employee/ officer"
        ],
        [
         "management/ self-employed/ highly qualified employee/ officer"
        ],
        [
         "unemployed/ unskilled  - non-resident"
        ],
        [
         "unemployed/ unskilled  - non-resident"
        ],
        [
         "skilled employee / official"
        ],
        [
         "unskilled - resident"
        ],
        [
         "management/ self-employed/ highly qualified employee/ officer"
        ],
        [
         "unskilled - resident"
        ],
        [
         "skilled employee / official"
        ],
        [
         "skilled employee / official"
        ],
        [
         "skilled employee / official"
        ],
        [
         "skilled employee / official"
        ],
        [
         "skilled employee / official"
        ],
        [
         "skilled employee / official"
        ],
        [
         "unskilled - resident"
        ],
        [
         "management/ self-employed/ highly qualified employee/ officer"
        ],
        [
         "skilled employee / official"
        ],
        [
         "unskilled - resident"
        ],
        [
         "skilled employee / official"
        ],
        [
         "unskilled - resident"
        ],
        [
         "skilled employee / official"
        ],
        [
         "unskilled - resident"
        ],
        [
         "skilled employee / official"
        ],
        [
         "management/ self-employed/ highly qualified employee/ officer"
        ],
        [
         "skilled employee / official"
        ],
        [
         "skilled employee / official"
        ],
        [
         "skilled employee / official"
        ],
        [
         "skilled employee / official"
        ],
        [
         "skilled employee / official"
        ],
        [
         "skilled employee / official"
        ],
        [
         "skilled employee / official"
        ],
        [
         "unskilled - resident"
        ],
        [
         "skilled employee / official"
        ],
        [
         "skilled employee / official"
        ],
        [
         "skilled employee / official"
        ],
        [
         "unemployed/ unskilled  - non-resident"
        ],
        [
         "management/ self-employed/ highly qualified employee/ officer"
        ],
        [
         "skilled employee / official"
        ],
        [
         "management/ self-employed/ highly qualified employee/ officer"
        ],
        [
         "management/ self-employed/ highly qualified employee/ officer"
        ],
        [
         "skilled employee / official"
        ],
        [
         "skilled employee / official"
        ],
        [
         "unemployed/ unskilled  - non-resident"
        ],
        [
         "skilled employee / official"
        ],
        [
         "skilled employee / official"
        ],
        [
         "skilled employee / official"
        ],
        [
         "skilled employee / official"
        ],
        [
         "unskilled - resident"
        ]
       ],
       "features": [
        "JOB"
       ],
       "model_names": [
        "Unmitigated",
        "ThresholdOptimizer"
       ],
       "predicted_ys": [
        [
         0,
         0,
         0,
         0,
         0,
         0,
         1,
         1,
         0,
         0,
         0,
         1,
         0,
         0,
         0,
         0,
         1,
         0,
         0,
         0,
         0,
         1,
         1,
         0,
         1,
         1,
         1,
         0,
         1,
         0,
         1,
         0,
         0,
         0,
         1,
         0,
         0,
         1,
         0,
         0,
         0,
         0,
         0,
         0,
         1,
         0,
         0,
         0,
         0,
         1,
         1,
         0,
         1,
         0,
         1,
         0,
         0,
         0,
         0,
         1,
         1,
         1,
         0,
         0,
         0,
         0,
         0,
         1,
         0,
         1,
         0,
         0,
         0,
         1,
         0,
         0,
         0,
         0,
         1,
         1,
         1,
         1,
         0,
         1,
         1,
         1,
         0,
         1,
         1,
         0,
         0,
         1,
         1,
         0,
         0,
         1,
         0,
         0,
         0,
         0,
         1,
         0,
         0,
         0,
         1,
         0,
         0,
         1,
         0,
         1,
         1,
         0,
         1,
         0,
         1,
         0,
         0,
         0,
         0,
         0,
         1,
         0,
         0,
         0,
         0,
         0,
         1,
         0,
         1,
         0,
         1,
         0,
         0,
         1,
         1,
         1,
         0,
         0,
         0,
         1,
         0,
         1,
         0,
         0,
         0,
         0,
         0,
         0,
         0,
         1,
         0,
         0,
         0,
         0,
         1,
         0,
         0,
         1,
         1,
         1,
         1,
         0,
         0,
         1,
         1,
         0,
         0,
         0,
         0,
         1,
         0,
         0,
         0,
         1,
         1,
         1,
         0,
         1,
         0,
         0,
         0,
         0,
         0,
         1,
         0,
         1,
         1,
         1,
         0,
         1,
         0,
         0,
         1,
         1,
         1,
         0,
         0,
         0,
         1,
         1,
         0,
         1,
         0,
         1,
         0,
         1,
         1,
         1,
         0,
         0,
         0,
         1,
         0,
         0,
         1,
         0,
         1,
         0,
         1,
         1,
         0,
         0,
         0,
         0,
         0,
         0,
         1,
         0,
         0,
         0,
         1,
         0,
         0,
         1,
         0,
         1,
         0,
         0,
         0,
         1,
         1,
         0,
         0,
         1,
         0,
         0,
         0,
         1,
         0,
         1,
         0,
         0,
         1,
         0,
         0,
         0,
         1,
         0,
         0,
         0,
         0,
         1,
         0,
         1,
         0,
         1,
         0,
         1,
         0,
         1,
         0,
         1,
         1,
         0,
         0,
         1,
         1,
         1,
         0,
         1,
         1,
         1,
         1,
         0,
         1,
         0,
         0,
         0,
         1,
         1,
         0,
         0,
         0,
         1,
         1,
         0,
         0,
         1,
         1,
         1
        ],
        [
         0,
         0,
         0,
         1,
         0,
         0,
         0,
         0,
         0,
         0,
         0,
         1,
         0,
         0,
         0,
         0,
         0,
         0,
         0,
         0,
         0,
         1,
         1,
         0,
         1,
         1,
         1,
         0,
         0,
         0,
         1,
         0,
         0,
         0,
         1,
         0,
         1,
         1,
         0,
         0,
         0,
         0,
         0,
         0,
         1,
         1,
         0,
         0,
         1,
         0,
         1,
         0,
         0,
         1,
         1,
         0,
         0,
         0,
         0,
         0,
         1,
         1,
         0,
         0,
         0,
         0,
         0,
         0,
         0,
         0,
         1,
         0,
         0,
         1,
         0,
         0,
         0,
         0,
         1,
         1,
         0,
         1,
         0,
         1,
         1,
         1,
         1,
         1,
         0,
         0,
         0,
         1,
         1,
         0,
         0,
         0,
         1,
         0,
         0,
         0,
         1,
         0,
         1,
         0,
         0,
         0,
         0,
         1,
         0,
         1,
         0,
         0,
         1,
         0,
         0,
         0,
         0,
         0,
         0,
         1,
         1,
         0,
         0,
         0,
         0,
         1,
         0,
         0,
         1,
         0,
         1,
         0,
         1,
         1,
         1,
         0,
         0,
         0,
         0,
         1,
         0,
         1,
         0,
         0,
         0,
         0,
         0,
         0,
         0,
         0,
         0,
         0,
         0,
         0,
         0,
         0,
         0,
         1,
         0,
         1,
         1,
         0,
         0,
         1,
         0,
         0,
         0,
         0,
         0,
         1,
         0,
         0,
         0,
         1,
         1,
         1,
         0,
         1,
         0,
         0,
         0,
         0,
         0,
         1,
         0,
         1,
         1,
         1,
         0,
         1,
         0,
         1,
         0,
         1,
         1,
         0,
         0,
         0,
         1,
         1,
         0,
         1,
         0,
         0,
         0,
         1,
         1,
         1,
         0,
         0,
         0,
         1,
         0,
         0,
         1,
         1,
         1,
         0,
         1,
         1,
         0,
         0,
         0,
         0,
         0,
         0,
         1,
         0,
         0,
         1,
         1,
         0,
         0,
         0,
         0,
         0,
         1,
         0,
         0,
         0,
         1,
         0,
         0,
         0,
         0,
         0,
         0,
         1,
         0,
         1,
         0,
         0,
         1,
         0,
         0,
         1,
         0,
         0,
         0,
         0,
         0,
         1,
         0,
         1,
         0,
         0,
         0,
         0,
         0,
         1,
         0,
         1,
         1,
         0,
         0,
         0,
         1,
         1,
         0,
         0,
         0,
         1,
         1,
         0,
         1,
         0,
         0,
         0,
         0,
         1,
         0,
         0,
         0,
         0,
         0,
         1,
         0,
         1,
         1,
         1
        ]
       ],
       "probability_methods": [
        "auc",
        "root_mean_squared_error",
        "balanced_root_mean_squared_error",
        "mean_squared_error",
        "mean_absolute_error",
        "log_loss"
       ],
       "regression_methods": [
        "root_mean_squared_error",
        "mean_squared_error",
        "mean_absolute_error",
        "r2_score"
       ],
       "true_y": [
        1,
        0,
        0,
        1,
        0,
        0,
        0,
        1,
        0,
        0,
        0,
        1,
        0,
        0,
        0,
        0,
        1,
        0,
        1,
        0,
        0,
        0,
        1,
        0,
        0,
        1,
        0,
        0,
        1,
        0,
        1,
        0,
        0,
        0,
        1,
        0,
        0,
        1,
        0,
        0,
        0,
        0,
        0,
        1,
        1,
        1,
        0,
        0,
        0,
        0,
        0,
        0,
        0,
        0,
        0,
        0,
        0,
        0,
        0,
        0,
        0,
        1,
        1,
        0,
        0,
        0,
        0,
        1,
        0,
        0,
        0,
        0,
        0,
        1,
        0,
        0,
        0,
        0,
        1,
        1,
        0,
        0,
        0,
        0,
        1,
        1,
        0,
        1,
        1,
        0,
        0,
        1,
        1,
        0,
        1,
        0,
        0,
        0,
        1,
        0,
        1,
        0,
        0,
        0,
        0,
        0,
        0,
        1,
        0,
        1,
        0,
        0,
        0,
        0,
        0,
        0,
        0,
        0,
        0,
        0,
        1,
        0,
        1,
        0,
        0,
        0,
        1,
        0,
        1,
        0,
        1,
        0,
        1,
        1,
        0,
        1,
        0,
        0,
        0,
        0,
        0,
        0,
        0,
        0,
        0,
        0,
        1,
        0,
        0,
        1,
        0,
        0,
        0,
        0,
        1,
        0,
        0,
        1,
        1,
        1,
        1,
        0,
        0,
        1,
        0,
        0,
        1,
        0,
        0,
        1,
        0,
        0,
        0,
        1,
        1,
        0,
        0,
        0,
        0,
        0,
        0,
        0,
        0,
        1,
        1,
        1,
        1,
        0,
        0,
        1,
        0,
        0,
        0,
        1,
        0,
        0,
        0,
        0,
        1,
        1,
        0,
        0,
        0,
        1,
        0,
        0,
        1,
        0,
        0,
        0,
        0,
        0,
        0,
        0,
        1,
        0,
        1,
        1,
        1,
        0,
        1,
        0,
        0,
        0,
        0,
        0,
        0,
        0,
        0,
        0,
        1,
        0,
        0,
        1,
        0,
        1,
        0,
        0,
        0,
        1,
        1,
        0,
        0,
        0,
        0,
        0,
        0,
        1,
        0,
        0,
        0,
        0,
        0,
        0,
        1,
        0,
        1,
        1,
        0,
        0,
        0,
        1,
        0,
        0,
        0,
        0,
        0,
        0,
        0,
        1,
        0,
        0,
        1,
        1,
        1,
        0,
        1,
        1,
        0,
        1,
        1,
        1,
        0,
        0,
        1,
        0,
        0,
        0,
        1,
        1,
        0,
        0,
        0,
        0,
        0,
        0,
        0,
        1,
        0,
        0
       ]
      }
     }
    },
    "24133a4b9bf041d1a9c6debab8feef47": {
     "model_module": "fairlearn-widget",
     "model_module_version": "^0.1.1",
     "model_name": "FairlearnModel",
     "state": {
      "_dom_classes": [],
      "_model_module": "fairlearn-widget",
      "_model_module_version": "^0.1.1",
      "_model_name": "FairlearnModel",
      "_view_count": null,
      "_view_module": "fairlearn-widget",
      "_view_module_version": "^0.1.1",
      "_view_name": "FairlearnView",
      "layout": "IPY_MODEL_3e6d73f2090f4a6eba724c156f9d044a",
      "request": {},
      "response": {},
      "value": {
       "classification_methods": [
        "accuracy_score",
        "balanced_accuracy_score",
        "precision_score",
        "recall_score",
        "f1_score"
       ],
       "dataset": [
        [
         "unskilled - resident"
        ],
        [
         "skilled employee / official"
        ],
        [
         "unskilled - resident"
        ],
        [
         "unskilled - resident"
        ],
        [
         "unskilled - resident"
        ],
        [
         "unskilled - resident"
        ],
        [
         "unskilled - resident"
        ],
        [
         "skilled employee / official"
        ],
        [
         "unskilled - resident"
        ],
        [
         "management/ self-employed/ highly qualified employee/ officer"
        ],
        [
         "skilled employee / official"
        ],
        [
         "management/ self-employed/ highly qualified employee/ officer"
        ],
        [
         "skilled employee / official"
        ],
        [
         "skilled employee / official"
        ],
        [
         "unskilled - resident"
        ],
        [
         "management/ self-employed/ highly qualified employee/ officer"
        ],
        [
         "skilled employee / official"
        ],
        [
         "skilled employee / official"
        ],
        [
         "skilled employee / official"
        ],
        [
         "skilled employee / official"
        ],
        [
         "management/ self-employed/ highly qualified employee/ officer"
        ],
        [
         "unskilled - resident"
        ],
        [
         "skilled employee / official"
        ],
        [
         "unskilled - resident"
        ],
        [
         "skilled employee / official"
        ],
        [
         "management/ self-employed/ highly qualified employee/ officer"
        ],
        [
         "unskilled - resident"
        ],
        [
         "skilled employee / official"
        ],
        [
         "management/ self-employed/ highly qualified employee/ officer"
        ],
        [
         "skilled employee / official"
        ],
        [
         "skilled employee / official"
        ],
        [
         "skilled employee / official"
        ],
        [
         "skilled employee / official"
        ],
        [
         "skilled employee / official"
        ],
        [
         "skilled employee / official"
        ],
        [
         "skilled employee / official"
        ],
        [
         "skilled employee / official"
        ],
        [
         "skilled employee / official"
        ],
        [
         "skilled employee / official"
        ],
        [
         "skilled employee / official"
        ],
        [
         "skilled employee / official"
        ],
        [
         "unskilled - resident"
        ],
        [
         "unskilled - resident"
        ],
        [
         "management/ self-employed/ highly qualified employee/ officer"
        ],
        [
         "management/ self-employed/ highly qualified employee/ officer"
        ],
        [
         "management/ self-employed/ highly qualified employee/ officer"
        ],
        [
         "skilled employee / official"
        ],
        [
         "unskilled - resident"
        ],
        [
         "skilled employee / official"
        ],
        [
         "skilled employee / official"
        ],
        [
         "skilled employee / official"
        ],
        [
         "skilled employee / official"
        ],
        [
         "skilled employee / official"
        ],
        [
         "skilled employee / official"
        ],
        [
         "skilled employee / official"
        ],
        [
         "unskilled - resident"
        ],
        [
         "skilled employee / official"
        ],
        [
         "management/ self-employed/ highly qualified employee/ officer"
        ],
        [
         "skilled employee / official"
        ],
        [
         "unskilled - resident"
        ],
        [
         "skilled employee / official"
        ],
        [
         "skilled employee / official"
        ],
        [
         "unemployed/ unskilled  - non-resident"
        ],
        [
         "skilled employee / official"
        ],
        [
         "skilled employee / official"
        ],
        [
         "management/ self-employed/ highly qualified employee/ officer"
        ],
        [
         "skilled employee / official"
        ],
        [
         "management/ self-employed/ highly qualified employee/ officer"
        ],
        [
         "unskilled - resident"
        ],
        [
         "unskilled - resident"
        ],
        [
         "unskilled - resident"
        ],
        [
         "skilled employee / official"
        ],
        [
         "skilled employee / official"
        ],
        [
         "skilled employee / official"
        ],
        [
         "management/ self-employed/ highly qualified employee/ officer"
        ],
        [
         "skilled employee / official"
        ],
        [
         "skilled employee / official"
        ],
        [
         "unskilled - resident"
        ],
        [
         "management/ self-employed/ highly qualified employee/ officer"
        ],
        [
         "skilled employee / official"
        ],
        [
         "management/ self-employed/ highly qualified employee/ officer"
        ],
        [
         "skilled employee / official"
        ],
        [
         "management/ self-employed/ highly qualified employee/ officer"
        ],
        [
         "skilled employee / official"
        ],
        [
         "skilled employee / official"
        ],
        [
         "skilled employee / official"
        ],
        [
         "unskilled - resident"
        ],
        [
         "skilled employee / official"
        ],
        [
         "skilled employee / official"
        ],
        [
         "unemployed/ unskilled  - non-resident"
        ],
        [
         "unskilled - resident"
        ],
        [
         "management/ self-employed/ highly qualified employee/ officer"
        ],
        [
         "skilled employee / official"
        ],
        [
         "skilled employee / official"
        ],
        [
         "skilled employee / official"
        ],
        [
         "skilled employee / official"
        ],
        [
         "skilled employee / official"
        ],
        [
         "skilled employee / official"
        ],
        [
         "unskilled - resident"
        ],
        [
         "skilled employee / official"
        ],
        [
         "skilled employee / official"
        ],
        [
         "skilled employee / official"
        ],
        [
         "unemployed/ unskilled  - non-resident"
        ],
        [
         "skilled employee / official"
        ],
        [
         "unskilled - resident"
        ],
        [
         "skilled employee / official"
        ],
        [
         "unskilled - resident"
        ],
        [
         "skilled employee / official"
        ],
        [
         "unskilled - resident"
        ],
        [
         "unskilled - resident"
        ],
        [
         "skilled employee / official"
        ],
        [
         "skilled employee / official"
        ],
        [
         "unskilled - resident"
        ],
        [
         "skilled employee / official"
        ],
        [
         "skilled employee / official"
        ],
        [
         "skilled employee / official"
        ],
        [
         "skilled employee / official"
        ],
        [
         "unskilled - resident"
        ],
        [
         "management/ self-employed/ highly qualified employee/ officer"
        ],
        [
         "unskilled - resident"
        ],
        [
         "skilled employee / official"
        ],
        [
         "skilled employee / official"
        ],
        [
         "management/ self-employed/ highly qualified employee/ officer"
        ],
        [
         "skilled employee / official"
        ],
        [
         "unskilled - resident"
        ],
        [
         "skilled employee / official"
        ],
        [
         "skilled employee / official"
        ],
        [
         "skilled employee / official"
        ],
        [
         "unskilled - resident"
        ],
        [
         "skilled employee / official"
        ],
        [
         "skilled employee / official"
        ],
        [
         "unskilled - resident"
        ],
        [
         "skilled employee / official"
        ],
        [
         "skilled employee / official"
        ],
        [
         "unskilled - resident"
        ],
        [
         "skilled employee / official"
        ],
        [
         "skilled employee / official"
        ],
        [
         "skilled employee / official"
        ],
        [
         "skilled employee / official"
        ],
        [
         "skilled employee / official"
        ],
        [
         "skilled employee / official"
        ],
        [
         "management/ self-employed/ highly qualified employee/ officer"
        ],
        [
         "management/ self-employed/ highly qualified employee/ officer"
        ],
        [
         "skilled employee / official"
        ],
        [
         "skilled employee / official"
        ],
        [
         "skilled employee / official"
        ],
        [
         "unskilled - resident"
        ],
        [
         "skilled employee / official"
        ],
        [
         "skilled employee / official"
        ],
        [
         "skilled employee / official"
        ],
        [
         "skilled employee / official"
        ],
        [
         "unskilled - resident"
        ],
        [
         "unskilled - resident"
        ],
        [
         "skilled employee / official"
        ],
        [
         "skilled employee / official"
        ],
        [
         "management/ self-employed/ highly qualified employee/ officer"
        ],
        [
         "skilled employee / official"
        ],
        [
         "management/ self-employed/ highly qualified employee/ officer"
        ],
        [
         "skilled employee / official"
        ],
        [
         "skilled employee / official"
        ],
        [
         "skilled employee / official"
        ],
        [
         "skilled employee / official"
        ],
        [
         "skilled employee / official"
        ],
        [
         "unskilled - resident"
        ],
        [
         "skilled employee / official"
        ],
        [
         "skilled employee / official"
        ],
        [
         "skilled employee / official"
        ],
        [
         "skilled employee / official"
        ],
        [
         "management/ self-employed/ highly qualified employee/ officer"
        ],
        [
         "skilled employee / official"
        ],
        [
         "skilled employee / official"
        ],
        [
         "skilled employee / official"
        ],
        [
         "skilled employee / official"
        ],
        [
         "management/ self-employed/ highly qualified employee/ officer"
        ],
        [
         "management/ self-employed/ highly qualified employee/ officer"
        ],
        [
         "management/ self-employed/ highly qualified employee/ officer"
        ],
        [
         "unskilled - resident"
        ],
        [
         "skilled employee / official"
        ],
        [
         "management/ self-employed/ highly qualified employee/ officer"
        ],
        [
         "unskilled - resident"
        ],
        [
         "skilled employee / official"
        ],
        [
         "skilled employee / official"
        ],
        [
         "skilled employee / official"
        ],
        [
         "skilled employee / official"
        ],
        [
         "unskilled - resident"
        ],
        [
         "management/ self-employed/ highly qualified employee/ officer"
        ],
        [
         "skilled employee / official"
        ],
        [
         "unskilled - resident"
        ],
        [
         "unskilled - resident"
        ],
        [
         "management/ self-employed/ highly qualified employee/ officer"
        ],
        [
         "skilled employee / official"
        ],
        [
         "skilled employee / official"
        ],
        [
         "skilled employee / official"
        ],
        [
         "skilled employee / official"
        ],
        [
         "management/ self-employed/ highly qualified employee/ officer"
        ],
        [
         "skilled employee / official"
        ],
        [
         "unskilled - resident"
        ],
        [
         "management/ self-employed/ highly qualified employee/ officer"
        ],
        [
         "skilled employee / official"
        ],
        [
         "management/ self-employed/ highly qualified employee/ officer"
        ],
        [
         "skilled employee / official"
        ],
        [
         "skilled employee / official"
        ],
        [
         "unskilled - resident"
        ],
        [
         "management/ self-employed/ highly qualified employee/ officer"
        ],
        [
         "skilled employee / official"
        ],
        [
         "management/ self-employed/ highly qualified employee/ officer"
        ],
        [
         "management/ self-employed/ highly qualified employee/ officer"
        ],
        [
         "skilled employee / official"
        ],
        [
         "unskilled - resident"
        ],
        [
         "unskilled - resident"
        ],
        [
         "skilled employee / official"
        ],
        [
         "unskilled - resident"
        ],
        [
         "management/ self-employed/ highly qualified employee/ officer"
        ],
        [
         "unskilled - resident"
        ],
        [
         "skilled employee / official"
        ],
        [
         "skilled employee / official"
        ],
        [
         "unskilled - resident"
        ],
        [
         "skilled employee / official"
        ],
        [
         "skilled employee / official"
        ],
        [
         "skilled employee / official"
        ],
        [
         "skilled employee / official"
        ],
        [
         "skilled employee / official"
        ],
        [
         "management/ self-employed/ highly qualified employee/ officer"
        ],
        [
         "unskilled - resident"
        ],
        [
         "skilled employee / official"
        ],
        [
         "skilled employee / official"
        ],
        [
         "skilled employee / official"
        ],
        [
         "skilled employee / official"
        ],
        [
         "skilled employee / official"
        ],
        [
         "unskilled - resident"
        ],
        [
         "unskilled - resident"
        ],
        [
         "skilled employee / official"
        ],
        [
         "skilled employee / official"
        ],
        [
         "skilled employee / official"
        ],
        [
         "skilled employee / official"
        ],
        [
         "management/ self-employed/ highly qualified employee/ officer"
        ],
        [
         "unskilled - resident"
        ],
        [
         "unemployed/ unskilled  - non-resident"
        ],
        [
         "unskilled - resident"
        ],
        [
         "management/ self-employed/ highly qualified employee/ officer"
        ],
        [
         "unskilled - resident"
        ],
        [
         "skilled employee / official"
        ],
        [
         "skilled employee / official"
        ],
        [
         "management/ self-employed/ highly qualified employee/ officer"
        ],
        [
         "skilled employee / official"
        ],
        [
         "skilled employee / official"
        ],
        [
         "unskilled - resident"
        ],
        [
         "management/ self-employed/ highly qualified employee/ officer"
        ],
        [
         "management/ self-employed/ highly qualified employee/ officer"
        ],
        [
         "management/ self-employed/ highly qualified employee/ officer"
        ],
        [
         "skilled employee / official"
        ],
        [
         "unskilled - resident"
        ],
        [
         "management/ self-employed/ highly qualified employee/ officer"
        ],
        [
         "management/ self-employed/ highly qualified employee/ officer"
        ],
        [
         "unemployed/ unskilled  - non-resident"
        ],
        [
         "unemployed/ unskilled  - non-resident"
        ],
        [
         "skilled employee / official"
        ],
        [
         "unskilled - resident"
        ],
        [
         "management/ self-employed/ highly qualified employee/ officer"
        ],
        [
         "unskilled - resident"
        ],
        [
         "skilled employee / official"
        ],
        [
         "skilled employee / official"
        ],
        [
         "skilled employee / official"
        ],
        [
         "skilled employee / official"
        ],
        [
         "skilled employee / official"
        ],
        [
         "skilled employee / official"
        ],
        [
         "unskilled - resident"
        ],
        [
         "management/ self-employed/ highly qualified employee/ officer"
        ],
        [
         "skilled employee / official"
        ],
        [
         "unskilled - resident"
        ],
        [
         "skilled employee / official"
        ],
        [
         "unskilled - resident"
        ],
        [
         "skilled employee / official"
        ],
        [
         "unskilled - resident"
        ],
        [
         "skilled employee / official"
        ],
        [
         "management/ self-employed/ highly qualified employee/ officer"
        ],
        [
         "skilled employee / official"
        ],
        [
         "skilled employee / official"
        ],
        [
         "skilled employee / official"
        ],
        [
         "skilled employee / official"
        ],
        [
         "skilled employee / official"
        ],
        [
         "skilled employee / official"
        ],
        [
         "skilled employee / official"
        ],
        [
         "unskilled - resident"
        ],
        [
         "skilled employee / official"
        ],
        [
         "skilled employee / official"
        ],
        [
         "skilled employee / official"
        ],
        [
         "unemployed/ unskilled  - non-resident"
        ],
        [
         "management/ self-employed/ highly qualified employee/ officer"
        ],
        [
         "skilled employee / official"
        ],
        [
         "management/ self-employed/ highly qualified employee/ officer"
        ],
        [
         "management/ self-employed/ highly qualified employee/ officer"
        ],
        [
         "skilled employee / official"
        ],
        [
         "skilled employee / official"
        ],
        [
         "unemployed/ unskilled  - non-resident"
        ],
        [
         "skilled employee / official"
        ],
        [
         "skilled employee / official"
        ],
        [
         "skilled employee / official"
        ],
        [
         "skilled employee / official"
        ],
        [
         "unskilled - resident"
        ]
       ],
       "features": [
        "HOUSING"
       ],
       "model_names": [
        "Unmitigated",
        "ThresholdOptimizer"
       ],
       "predicted_ys": [
        [
         0,
         0,
         0,
         0,
         0,
         0,
         1,
         1,
         0,
         0,
         0,
         1,
         0,
         0,
         0,
         0,
         1,
         0,
         0,
         0,
         0,
         1,
         1,
         0,
         1,
         1,
         1,
         0,
         1,
         0,
         1,
         0,
         0,
         0,
         1,
         0,
         0,
         1,
         0,
         0,
         0,
         0,
         0,
         0,
         1,
         0,
         0,
         0,
         0,
         1,
         1,
         0,
         1,
         0,
         1,
         0,
         0,
         0,
         0,
         1,
         1,
         1,
         0,
         0,
         0,
         0,
         0,
         1,
         0,
         1,
         0,
         0,
         0,
         1,
         0,
         0,
         0,
         0,
         1,
         1,
         1,
         1,
         0,
         1,
         1,
         1,
         0,
         1,
         1,
         0,
         0,
         1,
         1,
         0,
         0,
         1,
         0,
         0,
         0,
         0,
         1,
         0,
         0,
         0,
         1,
         0,
         0,
         1,
         0,
         1,
         1,
         0,
         1,
         0,
         1,
         0,
         0,
         0,
         0,
         0,
         1,
         0,
         0,
         0,
         0,
         0,
         1,
         0,
         1,
         0,
         1,
         0,
         0,
         1,
         1,
         1,
         0,
         0,
         0,
         1,
         0,
         1,
         0,
         0,
         0,
         0,
         0,
         0,
         0,
         1,
         0,
         0,
         0,
         0,
         1,
         0,
         0,
         1,
         1,
         1,
         1,
         0,
         0,
         1,
         1,
         0,
         0,
         0,
         0,
         1,
         0,
         0,
         0,
         1,
         1,
         1,
         0,
         1,
         0,
         0,
         0,
         0,
         0,
         1,
         0,
         1,
         1,
         1,
         0,
         1,
         0,
         0,
         1,
         1,
         1,
         0,
         0,
         0,
         1,
         1,
         0,
         1,
         0,
         1,
         0,
         1,
         1,
         1,
         0,
         0,
         0,
         1,
         0,
         0,
         1,
         0,
         1,
         0,
         1,
         1,
         0,
         0,
         0,
         0,
         0,
         0,
         1,
         0,
         0,
         0,
         1,
         0,
         0,
         1,
         0,
         1,
         0,
         0,
         0,
         1,
         1,
         0,
         0,
         1,
         0,
         0,
         0,
         1,
         0,
         1,
         0,
         0,
         1,
         0,
         0,
         0,
         1,
         0,
         0,
         0,
         0,
         1,
         0,
         1,
         0,
         1,
         0,
         1,
         0,
         1,
         0,
         1,
         1,
         0,
         0,
         1,
         1,
         1,
         0,
         1,
         1,
         1,
         1,
         0,
         1,
         0,
         0,
         0,
         1,
         1,
         0,
         0,
         0,
         1,
         1,
         0,
         0,
         1,
         1,
         1
        ],
        [
         0,
         0,
         0,
         1,
         0,
         0,
         0,
         0,
         0,
         0,
         0,
         1,
         0,
         0,
         0,
         0,
         0,
         0,
         0,
         0,
         0,
         1,
         1,
         0,
         1,
         1,
         1,
         0,
         0,
         0,
         1,
         0,
         0,
         0,
         1,
         0,
         1,
         1,
         0,
         0,
         0,
         0,
         0,
         0,
         1,
         1,
         0,
         0,
         1,
         0,
         1,
         0,
         0,
         1,
         1,
         0,
         0,
         0,
         0,
         0,
         1,
         1,
         0,
         0,
         0,
         0,
         0,
         0,
         0,
         0,
         1,
         0,
         0,
         1,
         0,
         0,
         0,
         0,
         1,
         1,
         0,
         1,
         0,
         1,
         1,
         1,
         1,
         1,
         0,
         0,
         0,
         1,
         1,
         0,
         0,
         0,
         1,
         0,
         0,
         0,
         1,
         0,
         1,
         0,
         0,
         0,
         0,
         1,
         0,
         1,
         0,
         0,
         1,
         0,
         0,
         0,
         0,
         0,
         0,
         1,
         1,
         0,
         0,
         0,
         0,
         1,
         0,
         0,
         1,
         0,
         1,
         0,
         1,
         1,
         1,
         0,
         0,
         0,
         0,
         1,
         0,
         1,
         0,
         0,
         0,
         0,
         0,
         0,
         0,
         0,
         0,
         0,
         0,
         0,
         0,
         0,
         0,
         1,
         0,
         1,
         1,
         0,
         0,
         1,
         0,
         0,
         0,
         0,
         0,
         1,
         0,
         0,
         0,
         1,
         1,
         1,
         0,
         1,
         0,
         0,
         0,
         0,
         0,
         1,
         0,
         1,
         1,
         1,
         0,
         1,
         0,
         1,
         0,
         1,
         1,
         0,
         0,
         0,
         1,
         1,
         0,
         1,
         0,
         0,
         0,
         1,
         1,
         1,
         0,
         0,
         0,
         1,
         0,
         0,
         1,
         1,
         1,
         0,
         1,
         1,
         0,
         0,
         0,
         0,
         0,
         0,
         1,
         0,
         0,
         1,
         1,
         0,
         0,
         0,
         0,
         0,
         1,
         0,
         0,
         0,
         1,
         0,
         0,
         0,
         0,
         0,
         0,
         1,
         0,
         1,
         0,
         0,
         1,
         0,
         0,
         1,
         0,
         0,
         0,
         0,
         0,
         1,
         0,
         1,
         0,
         0,
         0,
         0,
         0,
         1,
         0,
         1,
         1,
         0,
         0,
         0,
         1,
         1,
         0,
         0,
         0,
         1,
         1,
         0,
         1,
         0,
         0,
         0,
         0,
         1,
         0,
         0,
         0,
         0,
         0,
         1,
         0,
         1,
         1,
         1
        ]
       ],
       "probability_methods": [
        "auc",
        "root_mean_squared_error",
        "balanced_root_mean_squared_error",
        "mean_squared_error",
        "mean_absolute_error",
        "log_loss"
       ],
       "regression_methods": [
        "root_mean_squared_error",
        "mean_squared_error",
        "mean_absolute_error",
        "r2_score"
       ],
       "true_y": [
        1,
        0,
        0,
        1,
        0,
        0,
        0,
        1,
        0,
        0,
        0,
        1,
        0,
        0,
        0,
        0,
        1,
        0,
        1,
        0,
        0,
        0,
        1,
        0,
        0,
        1,
        0,
        0,
        1,
        0,
        1,
        0,
        0,
        0,
        1,
        0,
        0,
        1,
        0,
        0,
        0,
        0,
        0,
        1,
        1,
        1,
        0,
        0,
        0,
        0,
        0,
        0,
        0,
        0,
        0,
        0,
        0,
        0,
        0,
        0,
        0,
        1,
        1,
        0,
        0,
        0,
        0,
        1,
        0,
        0,
        0,
        0,
        0,
        1,
        0,
        0,
        0,
        0,
        1,
        1,
        0,
        0,
        0,
        0,
        1,
        1,
        0,
        1,
        1,
        0,
        0,
        1,
        1,
        0,
        1,
        0,
        0,
        0,
        1,
        0,
        1,
        0,
        0,
        0,
        0,
        0,
        0,
        1,
        0,
        1,
        0,
        0,
        0,
        0,
        0,
        0,
        0,
        0,
        0,
        0,
        1,
        0,
        1,
        0,
        0,
        0,
        1,
        0,
        1,
        0,
        1,
        0,
        1,
        1,
        0,
        1,
        0,
        0,
        0,
        0,
        0,
        0,
        0,
        0,
        0,
        0,
        1,
        0,
        0,
        1,
        0,
        0,
        0,
        0,
        1,
        0,
        0,
        1,
        1,
        1,
        1,
        0,
        0,
        1,
        0,
        0,
        1,
        0,
        0,
        1,
        0,
        0,
        0,
        1,
        1,
        0,
        0,
        0,
        0,
        0,
        0,
        0,
        0,
        1,
        1,
        1,
        1,
        0,
        0,
        1,
        0,
        0,
        0,
        1,
        0,
        0,
        0,
        0,
        1,
        1,
        0,
        0,
        0,
        1,
        0,
        0,
        1,
        0,
        0,
        0,
        0,
        0,
        0,
        0,
        1,
        0,
        1,
        1,
        1,
        0,
        1,
        0,
        0,
        0,
        0,
        0,
        0,
        0,
        0,
        0,
        1,
        0,
        0,
        1,
        0,
        1,
        0,
        0,
        0,
        1,
        1,
        0,
        0,
        0,
        0,
        0,
        0,
        1,
        0,
        0,
        0,
        0,
        0,
        0,
        1,
        0,
        1,
        1,
        0,
        0,
        0,
        1,
        0,
        0,
        0,
        0,
        0,
        0,
        0,
        1,
        0,
        0,
        1,
        1,
        1,
        0,
        1,
        1,
        0,
        1,
        1,
        1,
        0,
        0,
        1,
        0,
        0,
        0,
        1,
        1,
        0,
        0,
        0,
        0,
        0,
        0,
        0,
        1,
        0,
        0
       ]
      }
     }
    },
    "278c86298b3d4fa38345aa2d790085d2": {
     "model_module": "fairlearn-widget",
     "model_module_version": "^0.1.1",
     "model_name": "FairlearnModel",
     "state": {
      "_dom_classes": [],
      "_model_module": "fairlearn-widget",
      "_model_module_version": "^0.1.1",
      "_model_name": "FairlearnModel",
      "_view_count": null,
      "_view_module": "fairlearn-widget",
      "_view_module_version": "^0.1.1",
      "_view_name": "FairlearnView",
      "layout": "IPY_MODEL_2486777d56f544b88bb8438af09b4341",
      "request": {},
      "response": {},
      "value": {
       "classification_methods": [
        "accuracy_score",
        "balanced_accuracy_score",
        "precision_score",
        "recall_score",
        "f1_score"
       ],
       "dataset": [
        [
         "own"
        ],
        [
         "own"
        ],
        [
         "own"
        ],
        [
         "own"
        ],
        [
         "own"
        ],
        [
         "own"
        ],
        [
         "own"
        ],
        [
         "own"
        ],
        [
         "own"
        ],
        [
         "own"
        ],
        [
         "for_free"
        ],
        [
         "own"
        ],
        [
         "own"
        ],
        [
         "own"
        ],
        [
         "rent"
        ],
        [
         "rent"
        ],
        [
         "own"
        ],
        [
         "own"
        ],
        [
         "rent"
        ],
        [
         "own"
        ],
        [
         "own"
        ],
        [
         "own"
        ],
        [
         "for_free"
        ],
        [
         "own"
        ],
        [
         "own"
        ],
        [
         "for_free"
        ],
        [
         "own"
        ],
        [
         "own"
        ],
        [
         "own"
        ],
        [
         "rent"
        ],
        [
         "rent"
        ],
        [
         "own"
        ],
        [
         "own"
        ],
        [
         "own"
        ],
        [
         "rent"
        ],
        [
         "own"
        ],
        [
         "own"
        ],
        [
         "for_free"
        ],
        [
         "own"
        ],
        [
         "own"
        ],
        [
         "own"
        ],
        [
         "own"
        ],
        [
         "for_free"
        ],
        [
         "own"
        ],
        [
         "own"
        ],
        [
         "own"
        ],
        [
         "own"
        ],
        [
         "own"
        ],
        [
         "own"
        ],
        [
         "for_free"
        ],
        [
         "for_free"
        ],
        [
         "own"
        ],
        [
         "own"
        ],
        [
         "rent"
        ],
        [
         "own"
        ],
        [
         "rent"
        ],
        [
         "own"
        ],
        [
         "for_free"
        ],
        [
         "rent"
        ],
        [
         "own"
        ],
        [
         "rent"
        ],
        [
         "rent"
        ],
        [
         "own"
        ],
        [
         "own"
        ],
        [
         "rent"
        ],
        [
         "for_free"
        ],
        [
         "for_free"
        ],
        [
         "for_free"
        ],
        [
         "own"
        ],
        [
         "own"
        ],
        [
         "own"
        ],
        [
         "own"
        ],
        [
         "rent"
        ],
        [
         "own"
        ],
        [
         "own"
        ],
        [
         "own"
        ],
        [
         "own"
        ],
        [
         "own"
        ],
        [
         "own"
        ],
        [
         "own"
        ],
        [
         "own"
        ],
        [
         "own"
        ],
        [
         "rent"
        ],
        [
         "own"
        ],
        [
         "rent"
        ],
        [
         "own"
        ],
        [
         "own"
        ],
        [
         "own"
        ],
        [
         "for_free"
        ],
        [
         "own"
        ],
        [
         "rent"
        ],
        [
         "for_free"
        ],
        [
         "for_free"
        ],
        [
         "own"
        ],
        [
         "rent"
        ],
        [
         "own"
        ],
        [
         "own"
        ],
        [
         "for_free"
        ],
        [
         "own"
        ],
        [
         "own"
        ],
        [
         "rent"
        ],
        [
         "for_free"
        ],
        [
         "own"
        ],
        [
         "own"
        ],
        [
         "own"
        ],
        [
         "rent"
        ],
        [
         "own"
        ],
        [
         "for_free"
        ],
        [
         "own"
        ],
        [
         "rent"
        ],
        [
         "for_free"
        ],
        [
         "own"
        ],
        [
         "rent"
        ],
        [
         "own"
        ],
        [
         "own"
        ],
        [
         "own"
        ],
        [
         "rent"
        ],
        [
         "own"
        ],
        [
         "own"
        ],
        [
         "own"
        ],
        [
         "rent"
        ],
        [
         "for_free"
        ],
        [
         "own"
        ],
        [
         "own"
        ],
        [
         "own"
        ],
        [
         "own"
        ],
        [
         "own"
        ],
        [
         "own"
        ],
        [
         "for_free"
        ],
        [
         "own"
        ],
        [
         "own"
        ],
        [
         "own"
        ],
        [
         "own"
        ],
        [
         "own"
        ],
        [
         "for_free"
        ],
        [
         "own"
        ],
        [
         "own"
        ],
        [
         "own"
        ],
        [
         "for_free"
        ],
        [
         "own"
        ],
        [
         "own"
        ],
        [
         "own"
        ],
        [
         "own"
        ],
        [
         "own"
        ],
        [
         "own"
        ],
        [
         "own"
        ],
        [
         "own"
        ],
        [
         "own"
        ],
        [
         "own"
        ],
        [
         "own"
        ],
        [
         "own"
        ],
        [
         "rent"
        ],
        [
         "rent"
        ],
        [
         "own"
        ],
        [
         "own"
        ],
        [
         "own"
        ],
        [
         "own"
        ],
        [
         "own"
        ],
        [
         "own"
        ],
        [
         "rent"
        ],
        [
         "for_free"
        ],
        [
         "own"
        ],
        [
         "own"
        ],
        [
         "own"
        ],
        [
         "own"
        ],
        [
         "own"
        ],
        [
         "own"
        ],
        [
         "own"
        ],
        [
         "for_free"
        ],
        [
         "own"
        ],
        [
         "own"
        ],
        [
         "own"
        ],
        [
         "own"
        ],
        [
         "rent"
        ],
        [
         "own"
        ],
        [
         "for_free"
        ],
        [
         "own"
        ],
        [
         "rent"
        ],
        [
         "for_free"
        ],
        [
         "own"
        ],
        [
         "own"
        ],
        [
         "own"
        ],
        [
         "own"
        ],
        [
         "own"
        ],
        [
         "own"
        ],
        [
         "own"
        ],
        [
         "for_free"
        ],
        [
         "own"
        ],
        [
         "own"
        ],
        [
         "for_free"
        ],
        [
         "own"
        ],
        [
         "own"
        ],
        [
         "own"
        ],
        [
         "for_free"
        ],
        [
         "own"
        ],
        [
         "for_free"
        ],
        [
         "own"
        ],
        [
         "own"
        ],
        [
         "own"
        ],
        [
         "own"
        ],
        [
         "own"
        ],
        [
         "own"
        ],
        [
         "own"
        ],
        [
         "own"
        ],
        [
         "rent"
        ],
        [
         "rent"
        ],
        [
         "own"
        ],
        [
         "own"
        ],
        [
         "own"
        ],
        [
         "own"
        ],
        [
         "own"
        ],
        [
         "own"
        ],
        [
         "own"
        ],
        [
         "rent"
        ],
        [
         "own"
        ],
        [
         "own"
        ],
        [
         "own"
        ],
        [
         "rent"
        ],
        [
         "own"
        ],
        [
         "own"
        ],
        [
         "for_free"
        ],
        [
         "own"
        ],
        [
         "own"
        ],
        [
         "own"
        ],
        [
         "own"
        ],
        [
         "own"
        ],
        [
         "own"
        ],
        [
         "own"
        ],
        [
         "own"
        ],
        [
         "rent"
        ],
        [
         "own"
        ],
        [
         "own"
        ],
        [
         "rent"
        ],
        [
         "own"
        ],
        [
         "own"
        ],
        [
         "for_free"
        ],
        [
         "own"
        ],
        [
         "own"
        ],
        [
         "own"
        ],
        [
         "rent"
        ],
        [
         "own"
        ],
        [
         "own"
        ],
        [
         "own"
        ],
        [
         "own"
        ],
        [
         "own"
        ],
        [
         "own"
        ],
        [
         "own"
        ],
        [
         "own"
        ],
        [
         "rent"
        ],
        [
         "for_free"
        ],
        [
         "own"
        ],
        [
         "own"
        ],
        [
         "own"
        ],
        [
         "own"
        ],
        [
         "for_free"
        ],
        [
         "own"
        ],
        [
         "own"
        ],
        [
         "own"
        ],
        [
         "own"
        ],
        [
         "own"
        ],
        [
         "own"
        ],
        [
         "rent"
        ],
        [
         "own"
        ],
        [
         "own"
        ],
        [
         "own"
        ],
        [
         "own"
        ],
        [
         "own"
        ],
        [
         "rent"
        ],
        [
         "own"
        ],
        [
         "own"
        ],
        [
         "rent"
        ],
        [
         "own"
        ],
        [
         "rent"
        ],
        [
         "own"
        ],
        [
         "own"
        ],
        [
         "own"
        ],
        [
         "own"
        ],
        [
         "own"
        ],
        [
         "own"
        ],
        [
         "rent"
        ],
        [
         "rent"
        ],
        [
         "own"
        ],
        [
         "own"
        ],
        [
         "own"
        ],
        [
         "for_free"
        ],
        [
         "own"
        ],
        [
         "own"
        ],
        [
         "rent"
        ],
        [
         "rent"
        ],
        [
         "rent"
        ],
        [
         "rent"
        ],
        [
         "own"
        ],
        [
         "own"
        ],
        [
         "own"
        ],
        [
         "own"
        ],
        [
         "own"
        ],
        [
         "own"
        ],
        [
         "rent"
        ],
        [
         "own"
        ],
        [
         "rent"
        ]
       ],
       "features": [
        "HOUSING"
       ],
       "model_names": [
        "GridSearch_12",
        "GridSearch_16",
        "Unmitigated",
        "ThresholdOptimizer"
       ],
       "predicted_ys": [
        [
         0,
         1,
         1,
         1,
         1,
         1,
         0,
         0,
         0,
         1,
         0,
         0,
         1,
         1,
         1,
         0,
         0,
         0,
         1,
         1,
         0,
         1,
         1,
         1,
         0,
         0,
         1,
         1,
         0,
         1,
         1,
         1,
         1,
         1,
         0,
         1,
         0,
         1,
         0,
         1,
         1,
         1,
         0,
         0,
         0,
         0,
         0,
         0,
         1,
         1,
         0,
         1,
         0,
         1,
         0,
         0,
         1,
         0,
         0,
         0,
         1,
         1,
         0,
         1,
         1,
         1,
         0,
         1,
         1,
         1,
         1,
         1,
         0,
         0,
         0,
         1,
         1,
         1,
         0,
         0,
         0,
         0,
         0,
         0,
         1,
         0,
         1,
         1,
         1,
         0,
         1,
         0,
         0,
         1,
         0,
         1,
         1,
         0,
         1,
         0,
         0,
         1,
         0,
         0,
         0,
         1,
         1,
         0,
         1,
         0,
         0,
         1,
         1,
         1,
         0,
         1,
         1,
         1,
         0,
         0,
         1,
         0,
         0,
         0,
         1,
         1,
         0,
         1,
         1,
         1,
         1,
         0,
         0,
         0,
         1,
         0,
         0,
         1,
         1,
         0,
         0,
         1,
         1,
         0,
         1,
         1,
         0,
         1,
         1,
         0,
         1,
         1,
         0,
         1,
         0,
         1,
         1,
         1,
         0,
         0,
         1,
         0,
         1,
         0,
         0,
         1,
         1,
         1,
         0,
         1,
         0,
         0,
         1,
         1,
         0,
         1,
         0,
         1,
         1,
         1,
         1,
         1,
         0,
         0,
         0,
         0,
         1,
         0,
         1,
         0,
         1,
         1,
         0,
         1,
         1,
         0,
         1,
         1,
         1,
         0,
         1,
         1,
         1,
         0,
         0,
         1,
         0,
         0,
         0,
         1,
         1,
         0,
         1,
         1,
         0,
         1,
         0,
         0,
         1,
         0,
         1,
         0,
         0,
         1,
         1,
         1,
         1,
         1,
         1,
         0,
         0,
         0,
         1,
         0,
         1,
         0,
         1,
         1,
         1,
         0,
         1,
         1,
         1,
         0,
         1,
         1,
         1,
         1,
         1,
         0,
         1,
         1,
         1,
         0,
         0,
         1,
         0,
         0,
         1,
         1,
         1,
         0,
         1,
         0,
         1,
         1,
         1,
         1,
         1,
         0,
         0,
         1,
         1,
         0,
         1,
         0,
         0,
         0,
         0,
         1,
         0,
         0,
         0,
         1,
         0,
         1,
         1,
         0,
         0,
         0,
         1,
         1,
         1,
         0,
         1,
         0,
         1,
         1,
         0,
         0
        ],
        [
         1,
         0,
         1,
         1,
         0,
         0,
         0,
         1,
         0,
         0,
         0,
         1,
         0,
         0,
         0,
         0,
         1,
         0,
         0,
         0,
         0,
         0,
         0,
         1,
         1,
         1,
         1,
         0,
         1,
         0,
         0,
         0,
         0,
         0,
         1,
         0,
         1,
         0,
         0,
         0,
         0,
         0,
         0,
         0,
         1,
         0,
         1,
         0,
         1,
         1,
         0,
         0,
         1,
         1,
         1,
         0,
         0,
         1,
         0,
         0,
         1,
         1,
         1,
         0,
         0,
         0,
         1,
         0,
         0,
         0,
         1,
         0,
         0,
         1,
         0,
         0,
         1,
         0,
         1,
         1,
         0,
         1,
         0,
         1,
         1,
         1,
         0,
         1,
         0,
         1,
         0,
         1,
         1,
         0,
         1,
         1,
         0,
         0,
         1,
         0,
         0,
         0,
         1,
         0,
         0,
         0,
         0,
         0,
         0,
         0,
         1,
         0,
         0,
         0,
         1,
         0,
         0,
         0,
         0,
         0,
         0,
         1,
         0,
         0,
         0,
         0,
         1,
         0,
         1,
         0,
         1,
         0,
         1,
         1,
         0,
         1,
         0,
         0,
         0,
         1,
         0,
         1,
         0,
         0,
         0,
         0,
         1,
         0,
         0,
         1,
         0,
         0,
         0,
         0,
         1,
         0,
         0,
         1,
         1,
         1,
         0,
         0,
         0,
         1,
         1,
         0,
         0,
         0,
         0,
         1,
         0,
         1,
         0,
         0,
         1,
         1,
         0,
         0,
         0,
         0,
         0,
         0,
         0,
         1,
         1,
         1,
         1,
         1,
         0,
         0,
         0,
         1,
         1,
         1,
         1,
         0,
         0,
         0,
         0,
         1,
         1,
         1,
         0,
         0,
         0,
         1,
         1,
         0,
         0,
         0,
         0,
         0,
         0,
         1,
         1,
         1,
         1,
         1,
         1,
         0,
         0,
         0,
         0,
         0,
         0,
         0,
         1,
         1,
         0,
         1,
         1,
         0,
         0,
         1,
         0,
         1,
         0,
         0,
         1,
         1,
         1,
         0,
         0,
         1,
         0,
         0,
         0,
         1,
         0,
         0,
         0,
         0,
         0,
         0,
         1,
         0,
         1,
         1,
         0,
         1,
         0,
         1,
         0,
         1,
         0,
         1,
         0,
         0,
         0,
         1,
         0,
         1,
         1,
         1,
         0,
         1,
         1,
         1,
         0,
         0,
         1,
         1,
         1,
         1,
         1,
         0,
         0,
         0,
         0,
         1,
         0,
         0,
         0,
         1,
         0,
         0,
         0,
         0,
         1,
         1
        ],
        [
         1,
         0,
         1,
         0,
         0,
         0,
         0,
         1,
         0,
         0,
         0,
         1,
         0,
         0,
         0,
         0,
         1,
         0,
         0,
         0,
         0,
         0,
         1,
         1,
         1,
         1,
         1,
         0,
         1,
         0,
         0,
         0,
         0,
         0,
         1,
         0,
         0,
         0,
         0,
         0,
         0,
         0,
         0,
         0,
         1,
         0,
         1,
         1,
         1,
         1,
         1,
         0,
         1,
         1,
         0,
         0,
         0,
         1,
         0,
         0,
         1,
         1,
         1,
         0,
         0,
         0,
         1,
         0,
         0,
         1,
         1,
         0,
         0,
         1,
         0,
         0,
         1,
         0,
         1,
         1,
         1,
         1,
         0,
         1,
         0,
         1,
         0,
         1,
         1,
         1,
         0,
         1,
         0,
         0,
         1,
         1,
         0,
         0,
         0,
         0,
         0,
         0,
         1,
         0,
         0,
         0,
         0,
         0,
         0,
         0,
         1,
         0,
         0,
         0,
         1,
         0,
         0,
         0,
         0,
         0,
         0,
         1,
         0,
         0,
         0,
         0,
         1,
         0,
         1,
         0,
         0,
         0,
         1,
         1,
         0,
         1,
         0,
         0,
         1,
         1,
         0,
         1,
         0,
         0,
         0,
         0,
         1,
         0,
         0,
         1,
         0,
         0,
         0,
         0,
         1,
         0,
         0,
         1,
         1,
         1,
         1,
         0,
         0,
         1,
         1,
         0,
         0,
         0,
         1,
         1,
         0,
         0,
         0,
         0,
         1,
         1,
         0,
         0,
         0,
         0,
         0,
         0,
         0,
         1,
         1,
         1,
         1,
         1,
         0,
         0,
         0,
         0,
         1,
         1,
         1,
         0,
         0,
         1,
         0,
         1,
         1,
         1,
         0,
         0,
         0,
         0,
         1,
         0,
         0,
         0,
         0,
         1,
         0,
         0,
         1,
         0,
         1,
         1,
         1,
         1,
         0,
         0,
         0,
         0,
         0,
         0,
         1,
         0,
         0,
         0,
         1,
         0,
         0,
         1,
         0,
         1,
         0,
         0,
         1,
         1,
         1,
         0,
         0,
         1,
         0,
         0,
         0,
         1,
         0,
         0,
         0,
         0,
         0,
         0,
         1,
         0,
         1,
         1,
         0,
         1,
         0,
         1,
         0,
         1,
         0,
         1,
         0,
         0,
         0,
         1,
         0,
         1,
         1,
         1,
         0,
         1,
         1,
         1,
         0,
         0,
         1,
         1,
         1,
         0,
         1,
         0,
         0,
         0,
         0,
         1,
         0,
         0,
         0,
         1,
         0,
         1,
         0,
         1,
         1,
         1
        ],
        [
         1,
         0,
         0,
         0,
         0,
         0,
         0,
         1,
         0,
         0,
         0,
         1,
         0,
         0,
         0,
         0,
         1,
         0,
         0,
         1,
         0,
         0,
         0,
         0,
         1,
         0,
         1,
         0,
         1,
         0,
         0,
         0,
         0,
         1,
         1,
         0,
         1,
         0,
         0,
         0,
         0,
         0,
         0,
         0,
         1,
         0,
         1,
         0,
         0,
         1,
         1,
         0,
         1,
         1,
         0,
         0,
         0,
         0,
         0,
         0,
         1,
         1,
         0,
         0,
         0,
         0,
         1,
         0,
         0,
         0,
         1,
         0,
         0,
         0,
         0,
         0,
         1,
         0,
         1,
         0,
         0,
         1,
         0,
         1,
         0,
         1,
         0,
         0,
         0,
         1,
         0,
         1,
         0,
         0,
         1,
         1,
         0,
         0,
         0,
         0,
         0,
         1,
         1,
         0,
         0,
         1,
         1,
         0,
         0,
         0,
         1,
         0,
         0,
         1,
         0,
         0,
         0,
         0,
         0,
         1,
         0,
         0,
         1,
         0,
         0,
         0,
         1,
         0,
         1,
         0,
         1,
         0,
         1,
         1,
         0,
         0,
         0,
         0,
         0,
         1,
         0,
         1,
         0,
         0,
         0,
         0,
         1,
         0,
         0,
         1,
         0,
         0,
         0,
         1,
         1,
         0,
         0,
         1,
         1,
         1,
         1,
         0,
         0,
         1,
         0,
         0,
         0,
         0,
         0,
         0,
         0,
         1,
         1,
         0,
         0,
         1,
         0,
         0,
         0,
         0,
         0,
         0,
         0,
         1,
         1,
         1,
         1,
         1,
         0,
         0,
         0,
         0,
         1,
         1,
         1,
         0,
         0,
         1,
         0,
         1,
         1,
         1,
         1,
         1,
         0,
         1,
         1,
         1,
         0,
         0,
         0,
         0,
         0,
         0,
         0,
         0,
         1,
         1,
         0,
         0,
         0,
         0,
         0,
         0,
         0,
         0,
         0,
         0,
         0,
         1,
         1,
         0,
         0,
         1,
         0,
         1,
         0,
         0,
         1,
         1,
         1,
         0,
         0,
         1,
         0,
         1,
         0,
         1,
         0,
         0,
         0,
         1,
         0,
         0,
         1,
         0,
         1,
         1,
         0,
         1,
         0,
         1,
         0,
         0,
         0,
         0,
         0,
         0,
         0,
         1,
         0,
         1,
         1,
         1,
         0,
         0,
         1,
         1,
         0,
         0,
         1,
         1,
         0,
         1,
         0,
         0,
         0,
         0,
         0,
         1,
         0,
         0,
         0,
         1,
         0,
         1,
         0,
         1,
         1,
         1
        ]
       ],
       "probability_methods": [
        "auc",
        "root_mean_squared_error",
        "balanced_root_mean_squared_error",
        "mean_squared_error",
        "mean_absolute_error",
        "log_loss"
       ],
       "regression_methods": [
        "root_mean_squared_error",
        "mean_squared_error",
        "mean_absolute_error",
        "r2_score"
       ],
       "true_y": [
        1,
        0,
        0,
        1,
        0,
        0,
        0,
        1,
        0,
        0,
        0,
        1,
        0,
        0,
        0,
        0,
        1,
        0,
        1,
        0,
        0,
        0,
        1,
        0,
        0,
        1,
        0,
        0,
        1,
        0,
        1,
        0,
        0,
        0,
        1,
        0,
        0,
        1,
        0,
        0,
        0,
        0,
        0,
        1,
        1,
        1,
        0,
        0,
        0,
        0,
        0,
        0,
        0,
        0,
        0,
        0,
        0,
        0,
        0,
        0,
        0,
        1,
        1,
        0,
        0,
        0,
        0,
        1,
        0,
        0,
        0,
        0,
        0,
        1,
        0,
        0,
        0,
        0,
        1,
        1,
        0,
        0,
        0,
        0,
        1,
        1,
        0,
        1,
        1,
        0,
        0,
        1,
        1,
        0,
        1,
        0,
        0,
        0,
        1,
        0,
        1,
        0,
        0,
        0,
        0,
        0,
        0,
        1,
        0,
        1,
        0,
        0,
        0,
        0,
        0,
        0,
        0,
        0,
        0,
        0,
        1,
        0,
        1,
        0,
        0,
        0,
        1,
        0,
        1,
        0,
        1,
        0,
        1,
        1,
        0,
        1,
        0,
        0,
        0,
        0,
        0,
        0,
        0,
        0,
        0,
        0,
        1,
        0,
        0,
        1,
        0,
        0,
        0,
        0,
        1,
        0,
        0,
        1,
        1,
        1,
        1,
        0,
        0,
        1,
        0,
        0,
        1,
        0,
        0,
        1,
        0,
        0,
        0,
        1,
        1,
        0,
        0,
        0,
        0,
        0,
        0,
        0,
        0,
        1,
        1,
        1,
        1,
        0,
        0,
        1,
        0,
        0,
        0,
        1,
        0,
        0,
        0,
        0,
        1,
        1,
        0,
        0,
        0,
        1,
        0,
        0,
        1,
        0,
        0,
        0,
        0,
        0,
        0,
        0,
        1,
        0,
        1,
        1,
        1,
        0,
        1,
        0,
        0,
        0,
        0,
        0,
        0,
        0,
        0,
        0,
        1,
        0,
        0,
        1,
        0,
        1,
        0,
        0,
        0,
        1,
        1,
        0,
        0,
        0,
        0,
        0,
        0,
        1,
        0,
        0,
        0,
        0,
        0,
        0,
        1,
        0,
        1,
        1,
        0,
        0,
        0,
        1,
        0,
        0,
        0,
        0,
        0,
        0,
        0,
        1,
        0,
        0,
        1,
        1,
        1,
        0,
        1,
        1,
        0,
        1,
        1,
        1,
        0,
        0,
        1,
        0,
        0,
        0,
        1,
        1,
        0,
        0,
        0,
        0,
        0,
        0,
        0,
        1,
        0,
        0
       ]
      }
     }
    }
   }
  }
 },
 "nbformat": 4,
 "nbformat_minor": 4
}
